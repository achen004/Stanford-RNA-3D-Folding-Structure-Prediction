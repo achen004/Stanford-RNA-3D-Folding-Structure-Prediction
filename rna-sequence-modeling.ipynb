{
 "cells": [
  {
   "cell_type": "code",
   "execution_count": 1,
   "id": "3de6def8",
   "metadata": {
    "_cell_guid": "b1076dfc-b9ad-4769-8c92-a6c4dae69d19",
    "_uuid": "8f2839f25d086af736a60e9eeb907d3b93b6e0e5",
    "execution": {
     "iopub.execute_input": "2025-04-01T23:37:38.614920Z",
     "iopub.status.busy": "2025-04-01T23:37:38.614593Z",
     "iopub.status.idle": "2025-04-01T23:37:47.831466Z",
     "shell.execute_reply": "2025-04-01T23:37:47.830156Z"
    },
    "papermill": {
     "duration": 9.227507,
     "end_time": "2025-04-01T23:37:47.833506",
     "exception": false,
     "start_time": "2025-04-01T23:37:38.605999",
     "status": "completed"
    },
    "tags": []
   },
   "outputs": [],
   "source": [
    "import numpy as np # linear algebra\n",
    "import pandas as pd # data processing, CSV file I/O (e.g. pd.read_csv)\n",
    "import os\n",
    "import re\n",
    "import torch\n",
    "import torch.nn as nn\n",
    "\n",
    "#approach: utilize a model for each output coordinate (5 sets)\n",
    "import xgboost as xgb\n",
    "from catboost import CatBoostRegressor\n",
    "from sklearn.preprocessing import OneHotEncoder\n",
    "from sklearn.feature_extraction.text import TfidfVectorizer\n",
    "from sklearn.feature_extraction import FeatureHasher\n",
    "from sklearn.feature_selection import VarianceThreshold\n",
    "from sklearn.model_selection import RepeatedKFold, cross_val_score\n",
    "from sklearn.metrics import mean_squared_error"
   ]
  },
  {
   "cell_type": "code",
   "execution_count": 2,
   "id": "b3a986a1",
   "metadata": {
    "execution": {
     "iopub.execute_input": "2025-04-01T23:37:47.848995Z",
     "iopub.status.busy": "2025-04-01T23:37:47.848491Z",
     "iopub.status.idle": "2025-04-01T23:37:47.853284Z",
     "shell.execute_reply": "2025-04-01T23:37:47.852027Z"
    },
    "papermill": {
     "duration": 0.014389,
     "end_time": "2025-04-01T23:37:47.855195",
     "exception": false,
     "start_time": "2025-04-01T23:37:47.840806",
     "status": "completed"
    },
    "tags": []
   },
   "outputs": [],
   "source": [
    "training_path='/kaggle/input/stanford-rna-3d-folding/train_sequences.csv'\n",
    "validation_path='/kaggle/input/stanford-rna-3d-folding/validation_sequences.csv'\n",
    "testing_path='/kaggle/input/stanford-rna-3d-folding/test_sequences.csv'\n",
    "\n",
    "training_labels_path='/kaggle/input/stanford-rna-3d-folding/train_labels.csv'\n",
    "validation_labels_path='/kaggle/input/stanford-rna-3d-folding/validation_labels.csv'\n",
    "\n",
    "#\"testing labels path\"\n",
    "submission_path='/kaggle/input/stanford-rna-3d-folding/sample_submission.csv'"
   ]
  },
  {
   "cell_type": "code",
   "execution_count": 3,
   "id": "21557489",
   "metadata": {
    "execution": {
     "iopub.execute_input": "2025-04-01T23:37:47.869833Z",
     "iopub.status.busy": "2025-04-01T23:37:47.869451Z",
     "iopub.status.idle": "2025-04-01T23:37:47.984395Z",
     "shell.execute_reply": "2025-04-01T23:37:47.983179Z"
    },
    "papermill": {
     "duration": 0.124229,
     "end_time": "2025-04-01T23:37:47.986225",
     "exception": false,
     "start_time": "2025-04-01T23:37:47.861996",
     "status": "completed"
    },
    "tags": []
   },
   "outputs": [
    {
     "data": {
      "text/html": [
       "<div>\n",
       "<style scoped>\n",
       "    .dataframe tbody tr th:only-of-type {\n",
       "        vertical-align: middle;\n",
       "    }\n",
       "\n",
       "    .dataframe tbody tr th {\n",
       "        vertical-align: top;\n",
       "    }\n",
       "\n",
       "    .dataframe thead th {\n",
       "        text-align: right;\n",
       "    }\n",
       "</style>\n",
       "<table border=\"1\" class=\"dataframe\">\n",
       "  <thead>\n",
       "    <tr style=\"text-align: right;\">\n",
       "      <th></th>\n",
       "      <th>target_id</th>\n",
       "      <th>sequence</th>\n",
       "      <th>temporal_cutoff</th>\n",
       "      <th>description</th>\n",
       "      <th>all_sequences</th>\n",
       "    </tr>\n",
       "  </thead>\n",
       "  <tbody>\n",
       "    <tr>\n",
       "      <th>691</th>\n",
       "      <td>7S3H_R</td>\n",
       "      <td>GGCUGCGUAUUUCUACUCUGUUGUUUUAGAGCUAGAAAUAGCAAGU...</td>\n",
       "      <td>2022-04-20</td>\n",
       "      <td>Cas9:sgRNA:DNA (S. pyogenes) with 0 RNA:DNA ba...</td>\n",
       "      <td>&gt;7S3H_1|Chain A[auth N]|Non-target DNA strand|...</td>\n",
       "    </tr>\n",
       "  </tbody>\n",
       "</table>\n",
       "</div>"
      ],
      "text/plain": [
       "    target_id                                           sequence  \\\n",
       "691    7S3H_R  GGCUGCGUAUUUCUACUCUGUUGUUUUAGAGCUAGAAAUAGCAAGU...   \n",
       "\n",
       "    temporal_cutoff                                        description  \\\n",
       "691      2022-04-20  Cas9:sgRNA:DNA (S. pyogenes) with 0 RNA:DNA ba...   \n",
       "\n",
       "                                         all_sequences  \n",
       "691  >7S3H_1|Chain A[auth N]|Non-target DNA strand|...  "
      ]
     },
     "execution_count": 3,
     "metadata": {},
     "output_type": "execute_result"
    }
   ],
   "source": [
    "train_df=pd.read_csv(training_path)\n",
    "update_train_df=train_df[train_df['temporal_cutoff']<\"2022-05-27\"]\n",
    "update_train_df.tail(1)"
   ]
  },
  {
   "cell_type": "code",
   "execution_count": 4,
   "id": "07479cbf",
   "metadata": {
    "execution": {
     "iopub.execute_input": "2025-04-01T23:37:48.001314Z",
     "iopub.status.busy": "2025-04-01T23:37:48.000911Z",
     "iopub.status.idle": "2025-04-01T23:37:48.007762Z",
     "shell.execute_reply": "2025-04-01T23:37:48.006739Z"
    },
    "papermill": {
     "duration": 0.01612,
     "end_time": "2025-04-01T23:37:48.009457",
     "exception": false,
     "start_time": "2025-04-01T23:37:47.993337",
     "status": "completed"
    },
    "tags": []
   },
   "outputs": [
    {
     "data": {
      "text/plain": [
       "152"
      ]
     },
     "execution_count": 4,
     "metadata": {},
     "output_type": "execute_result"
    }
   ],
   "source": [
    "#additional validation set\n",
    "validation_set_extra=train_df[train_df['temporal_cutoff']>\"2022-05-27\"]\n",
    "len(validation_set_extra)"
   ]
  },
  {
   "cell_type": "code",
   "execution_count": 5,
   "id": "cff0dac7",
   "metadata": {
    "execution": {
     "iopub.execute_input": "2025-04-01T23:37:48.024889Z",
     "iopub.status.busy": "2025-04-01T23:37:48.024529Z",
     "iopub.status.idle": "2025-04-01T23:37:48.372111Z",
     "shell.execute_reply": "2025-04-01T23:37:48.370953Z"
    },
    "papermill": {
     "duration": 0.357441,
     "end_time": "2025-04-01T23:37:48.373996",
     "exception": false,
     "start_time": "2025-04-01T23:37:48.016555",
     "status": "completed"
    },
    "tags": []
   },
   "outputs": [
    {
     "data": {
      "text/html": [
       "<div>\n",
       "<style scoped>\n",
       "    .dataframe tbody tr th:only-of-type {\n",
       "        vertical-align: middle;\n",
       "    }\n",
       "\n",
       "    .dataframe tbody tr th {\n",
       "        vertical-align: top;\n",
       "    }\n",
       "\n",
       "    .dataframe thead th {\n",
       "        text-align: right;\n",
       "    }\n",
       "</style>\n",
       "<table border=\"1\" class=\"dataframe\">\n",
       "  <thead>\n",
       "    <tr style=\"text-align: right;\">\n",
       "      <th></th>\n",
       "      <th>ID</th>\n",
       "      <th>resname</th>\n",
       "      <th>resid</th>\n",
       "      <th>x_1</th>\n",
       "      <th>y_1</th>\n",
       "      <th>z_1</th>\n",
       "    </tr>\n",
       "  </thead>\n",
       "  <tbody>\n",
       "    <tr>\n",
       "      <th>0</th>\n",
       "      <td>1SCL_A_1</td>\n",
       "      <td>G</td>\n",
       "      <td>1</td>\n",
       "      <td>13.76</td>\n",
       "      <td>-25.974001</td>\n",
       "      <td>0.102</td>\n",
       "    </tr>\n",
       "  </tbody>\n",
       "</table>\n",
       "</div>"
      ],
      "text/plain": [
       "         ID resname  resid    x_1        y_1    z_1\n",
       "0  1SCL_A_1       G      1  13.76 -25.974001  0.102"
      ]
     },
     "execution_count": 5,
     "metadata": {},
     "output_type": "execute_result"
    }
   ],
   "source": [
    "train_labels_df=pd.read_csv(training_labels_path)\n",
    "train_labels_df.head(1)"
   ]
  },
  {
   "cell_type": "markdown",
   "id": "b7ecbf53",
   "metadata": {
    "papermill": {
     "duration": 0.006574,
     "end_time": "2025-04-01T23:37:48.387998",
     "exception": false,
     "start_time": "2025-04-01T23:37:48.381424",
     "status": "completed"
    },
    "tags": []
   },
   "source": [
    "**Sequence structure prediction preprocessing**"
   ]
  },
  {
   "cell_type": "code",
   "execution_count": 6,
   "id": "4d9565f3",
   "metadata": {
    "execution": {
     "iopub.execute_input": "2025-04-01T23:37:48.403365Z",
     "iopub.status.busy": "2025-04-01T23:37:48.402925Z",
     "iopub.status.idle": "2025-04-01T23:37:49.265370Z",
     "shell.execute_reply": "2025-04-01T23:37:49.264254Z"
    },
    "papermill": {
     "duration": 0.87198,
     "end_time": "2025-04-01T23:37:49.267206",
     "exception": false,
     "start_time": "2025-04-01T23:37:48.395226",
     "status": "completed"
    },
    "tags": []
   },
   "outputs": [
    {
     "data": {
      "text/html": [
       "<div>\n",
       "<style scoped>\n",
       "    .dataframe tbody tr th:only-of-type {\n",
       "        vertical-align: middle;\n",
       "    }\n",
       "\n",
       "    .dataframe tbody tr th {\n",
       "        vertical-align: top;\n",
       "    }\n",
       "\n",
       "    .dataframe thead th {\n",
       "        text-align: right;\n",
       "    }\n",
       "</style>\n",
       "<table border=\"1\" class=\"dataframe\">\n",
       "  <thead>\n",
       "    <tr style=\"text-align: right;\">\n",
       "      <th></th>\n",
       "      <th>target_id</th>\n",
       "      <th>sequence</th>\n",
       "      <th>temporal_cutoff</th>\n",
       "      <th>description</th>\n",
       "      <th>all_sequences</th>\n",
       "      <th>ID</th>\n",
       "      <th>resname</th>\n",
       "      <th>resid</th>\n",
       "      <th>x_1</th>\n",
       "      <th>y_1</th>\n",
       "      <th>z_1</th>\n",
       "      <th>pdb_monomer</th>\n",
       "    </tr>\n",
       "  </thead>\n",
       "  <tbody>\n",
       "    <tr>\n",
       "      <th>0</th>\n",
       "      <td>1SCL_A</td>\n",
       "      <td>GGGUGCUCAGUACGAGAGGAACCGCACCC</td>\n",
       "      <td>1995-01-26</td>\n",
       "      <td>THE SARCIN-RICIN LOOP, A MODULAR RNA</td>\n",
       "      <td>&gt;1SCL_1|Chain A|RNA SARCIN-RICIN LOOP|Rattus n...</td>\n",
       "      <td>1SCL_A_1</td>\n",
       "      <td>G</td>\n",
       "      <td>1</td>\n",
       "      <td>13.76</td>\n",
       "      <td>-25.974001</td>\n",
       "      <td>0.102</td>\n",
       "      <td>1</td>\n",
       "    </tr>\n",
       "  </tbody>\n",
       "</table>\n",
       "</div>"
      ],
      "text/plain": [
       "  target_id                       sequence temporal_cutoff  \\\n",
       "0    1SCL_A  GGGUGCUCAGUACGAGAGGAACCGCACCC      1995-01-26   \n",
       "\n",
       "                            description  \\\n",
       "0  THE SARCIN-RICIN LOOP, A MODULAR RNA   \n",
       "\n",
       "                                       all_sequences        ID resname  resid  \\\n",
       "0  >1SCL_1|Chain A|RNA SARCIN-RICIN LOOP|Rattus n...  1SCL_A_1       G      1   \n",
       "\n",
       "     x_1        y_1    z_1 pdb_monomer  \n",
       "0  13.76 -25.974001  0.102           1  "
      ]
     },
     "execution_count": 6,
     "metadata": {},
     "output_type": "execute_result"
    }
   ],
   "source": [
    "#Extract target label: Protein Data Bank id, Monomer chain id\n",
    "train_labels_df['target_id']=train_labels_df['ID'].str.rsplit('_',n=1).str[0]\n",
    "train_labels_df['pdb_monomer']=train_labels_df['ID'].str.rsplit('_',n=1).str[1]\n",
    "\n",
    "#update submission df\n",
    "submission_df=pd.read_csv(submission_path)\n",
    "submission_df['target_id']=submission_df['ID'].str.rsplit('_',n=1).str[0]\n",
    "submission_df['pdb_monomer']=submission_df['ID'].str.rsplit('_',n=1).str[1]\n",
    "\n",
    "train_full_df=update_train_df.merge(train_labels_df, how=\"left\", on=\"target_id\")\n",
    "\n",
    "#train_labels_df.head(1)\n",
    "train_full_df.head(1)\n",
    "#submission_df.head(1)"
   ]
  },
  {
   "cell_type": "code",
   "execution_count": 7,
   "id": "4fade342",
   "metadata": {
    "execution": {
     "iopub.execute_input": "2025-04-01T23:37:49.283297Z",
     "iopub.status.busy": "2025-04-01T23:37:49.282863Z",
     "iopub.status.idle": "2025-04-01T23:37:49.362601Z",
     "shell.execute_reply": "2025-04-01T23:37:49.361530Z"
    },
    "papermill": {
     "duration": 0.089554,
     "end_time": "2025-04-01T23:37:49.364257",
     "exception": false,
     "start_time": "2025-04-01T23:37:49.274703",
     "status": "completed"
    },
    "tags": []
   },
   "outputs": [
    {
     "data": {
      "text/plain": [
       "target_id          0\n",
       "sequence           0\n",
       "temporal_cutoff    0\n",
       "description        0\n",
       "all_sequences      0\n",
       "ID                 0\n",
       "resname            0\n",
       "resid              0\n",
       "x_1                0\n",
       "y_1                0\n",
       "z_1                0\n",
       "pdb_monomer        0\n",
       "dtype: int64"
      ]
     },
     "execution_count": 7,
     "metadata": {},
     "output_type": "execute_result"
    }
   ],
   "source": [
    "#fill in nan description in all_sequences with \"missing\"\n",
    "train_full_df['all_sequences']=train_full_df['all_sequences'].astype(str).fillna(\"missing\")\n",
    "\n",
    "#fill in missing coordinates with mean values\n",
    "training_coordinates=['x_1','y_1','z_1']\n",
    "for t in training_coordinates:\n",
    "    t_mean=train_full_df[t].mean()\n",
    "    train_full_df[t]=train_full_df[t].fillna(t_mean)\n",
    "\n",
    "train_full_df.isna().sum()"
   ]
  },
  {
   "cell_type": "code",
   "execution_count": 8,
   "id": "6e9baf9b",
   "metadata": {
    "execution": {
     "iopub.execute_input": "2025-04-01T23:37:49.380454Z",
     "iopub.status.busy": "2025-04-01T23:37:49.380022Z",
     "iopub.status.idle": "2025-04-01T23:37:49.385154Z",
     "shell.execute_reply": "2025-04-01T23:37:49.384129Z"
    },
    "papermill": {
     "duration": 0.015073,
     "end_time": "2025-04-01T23:37:49.386723",
     "exception": false,
     "start_time": "2025-04-01T23:37:49.371650",
     "status": "completed"
    },
    "tags": []
   },
   "outputs": [],
   "source": [
    "def df_label_extract_merge(df_path, label_path):\n",
    "    df=pd.read_csv(df_path)\n",
    "    ldf=pd.read_csv(label_path)\n",
    "    ldf['target_id']=ldf['ID'].str.rsplit('_',n=1).str[0]\n",
    "    ldf['pdb_monomer']=ldf['ID'].str.rsplit('_',n=1).str[1]\n",
    "    return df.merge(ldf, how='left', on='target_id')"
   ]
  },
  {
   "cell_type": "code",
   "execution_count": 9,
   "id": "3cd62687",
   "metadata": {
    "execution": {
     "iopub.execute_input": "2025-04-01T23:37:49.402415Z",
     "iopub.status.busy": "2025-04-01T23:37:49.402037Z",
     "iopub.status.idle": "2025-04-01T23:37:49.527190Z",
     "shell.execute_reply": "2025-04-01T23:37:49.526153Z"
    },
    "papermill": {
     "duration": 0.134675,
     "end_time": "2025-04-01T23:37:49.528760",
     "exception": false,
     "start_time": "2025-04-01T23:37:49.394085",
     "status": "completed"
    },
    "tags": []
   },
   "outputs": [
    {
     "data": {
      "text/html": [
       "<div>\n",
       "<style scoped>\n",
       "    .dataframe tbody tr th:only-of-type {\n",
       "        vertical-align: middle;\n",
       "    }\n",
       "\n",
       "    .dataframe tbody tr th {\n",
       "        vertical-align: top;\n",
       "    }\n",
       "\n",
       "    .dataframe thead th {\n",
       "        text-align: right;\n",
       "    }\n",
       "</style>\n",
       "<table border=\"1\" class=\"dataframe\">\n",
       "  <thead>\n",
       "    <tr style=\"text-align: right;\">\n",
       "      <th></th>\n",
       "      <th>target_id</th>\n",
       "      <th>sequence</th>\n",
       "      <th>temporal_cutoff</th>\n",
       "      <th>description</th>\n",
       "      <th>all_sequences</th>\n",
       "      <th>ID</th>\n",
       "      <th>resname</th>\n",
       "      <th>resid</th>\n",
       "      <th>x_1</th>\n",
       "      <th>y_1</th>\n",
       "      <th>...</th>\n",
       "      <th>x_38</th>\n",
       "      <th>y_38</th>\n",
       "      <th>z_38</th>\n",
       "      <th>x_39</th>\n",
       "      <th>y_39</th>\n",
       "      <th>z_39</th>\n",
       "      <th>x_40</th>\n",
       "      <th>y_40</th>\n",
       "      <th>z_40</th>\n",
       "      <th>pdb_monomer</th>\n",
       "    </tr>\n",
       "  </thead>\n",
       "  <tbody>\n",
       "    <tr>\n",
       "      <th>0</th>\n",
       "      <td>R1107</td>\n",
       "      <td>GGGGGCCACAGCAGAAGCGUUCACGUCGCAGCCCCUGUCAGCCAUU...</td>\n",
       "      <td>2022-05-28</td>\n",
       "      <td>CPEB3 ribozyme\\nHuman\\nhuman CPEB3 HDV-like ri...</td>\n",
       "      <td>&gt;7QR4_1|Chain A|U1 small nuclear ribonucleopro...</td>\n",
       "      <td>R1107_1</td>\n",
       "      <td>G</td>\n",
       "      <td>1</td>\n",
       "      <td>-5.499</td>\n",
       "      <td>8.52</td>\n",
       "      <td>...</td>\n",
       "      <td>-1.000000e+18</td>\n",
       "      <td>-1.000000e+18</td>\n",
       "      <td>-1.000000e+18</td>\n",
       "      <td>-1.000000e+18</td>\n",
       "      <td>-1.000000e+18</td>\n",
       "      <td>-1.000000e+18</td>\n",
       "      <td>-1.000000e+18</td>\n",
       "      <td>-1.000000e+18</td>\n",
       "      <td>-1.000000e+18</td>\n",
       "      <td>1</td>\n",
       "    </tr>\n",
       "  </tbody>\n",
       "</table>\n",
       "<p>1 rows × 129 columns</p>\n",
       "</div>"
      ],
      "text/plain": [
       "  target_id                                           sequence  \\\n",
       "0     R1107  GGGGGCCACAGCAGAAGCGUUCACGUCGCAGCCCCUGUCAGCCAUU...   \n",
       "\n",
       "  temporal_cutoff                                        description  \\\n",
       "0      2022-05-28  CPEB3 ribozyme\\nHuman\\nhuman CPEB3 HDV-like ri...   \n",
       "\n",
       "                                       all_sequences       ID resname  resid  \\\n",
       "0  >7QR4_1|Chain A|U1 small nuclear ribonucleopro...  R1107_1       G      1   \n",
       "\n",
       "     x_1   y_1  ...          x_38          y_38          z_38          x_39  \\\n",
       "0 -5.499  8.52  ... -1.000000e+18 -1.000000e+18 -1.000000e+18 -1.000000e+18   \n",
       "\n",
       "           y_39          z_39          x_40          y_40          z_40  \\\n",
       "0 -1.000000e+18 -1.000000e+18 -1.000000e+18 -1.000000e+18 -1.000000e+18   \n",
       "\n",
       "   pdb_monomer  \n",
       "0            1  \n",
       "\n",
       "[1 rows x 129 columns]"
      ]
     },
     "execution_count": 9,
     "metadata": {},
     "output_type": "execute_result"
    }
   ],
   "source": [
    "#validation has 40 structural coordinate output triplets, whereas training has only 1 triplet output (empty multi-dimensional slots)\n",
    "validation_df=df_label_extract_merge(df_path=validation_path, label_path=validation_labels_path)\n",
    "validation_df[training_coordinates+['x_2']].head(1)\n",
    "validation_df.head(1)"
   ]
  },
  {
   "cell_type": "code",
   "execution_count": 10,
   "id": "bb0e901c",
   "metadata": {
    "execution": {
     "iopub.execute_input": "2025-04-01T23:37:49.545536Z",
     "iopub.status.busy": "2025-04-01T23:37:49.545205Z",
     "iopub.status.idle": "2025-04-01T23:37:49.572697Z",
     "shell.execute_reply": "2025-04-01T23:37:49.571651Z"
    },
    "papermill": {
     "duration": 0.037468,
     "end_time": "2025-04-01T23:37:49.574440",
     "exception": false,
     "start_time": "2025-04-01T23:37:49.536972",
     "status": "completed"
    },
    "tags": []
   },
   "outputs": [
    {
     "data": {
      "text/html": [
       "<div>\n",
       "<style scoped>\n",
       "    .dataframe tbody tr th:only-of-type {\n",
       "        vertical-align: middle;\n",
       "    }\n",
       "\n",
       "    .dataframe tbody tr th {\n",
       "        vertical-align: top;\n",
       "    }\n",
       "\n",
       "    .dataframe thead th {\n",
       "        text-align: right;\n",
       "    }\n",
       "</style>\n",
       "<table border=\"1\" class=\"dataframe\">\n",
       "  <thead>\n",
       "    <tr style=\"text-align: right;\">\n",
       "      <th></th>\n",
       "      <th>target_id</th>\n",
       "      <th>sequence</th>\n",
       "      <th>temporal_cutoff</th>\n",
       "      <th>description</th>\n",
       "      <th>all_sequences</th>\n",
       "      <th>ID</th>\n",
       "      <th>resname</th>\n",
       "      <th>resid</th>\n",
       "      <th>x_1</th>\n",
       "      <th>y_1</th>\n",
       "      <th>...</th>\n",
       "      <th>x_3</th>\n",
       "      <th>y_3</th>\n",
       "      <th>z_3</th>\n",
       "      <th>x_4</th>\n",
       "      <th>y_4</th>\n",
       "      <th>z_4</th>\n",
       "      <th>x_5</th>\n",
       "      <th>y_5</th>\n",
       "      <th>z_5</th>\n",
       "      <th>pdb_monomer</th>\n",
       "    </tr>\n",
       "  </thead>\n",
       "  <tbody>\n",
       "    <tr>\n",
       "      <th>0</th>\n",
       "      <td>R1107</td>\n",
       "      <td>GGGGGCCACAGCAGAAGCGUUCACGUCGCAGCCCCUGUCAGCCAUU...</td>\n",
       "      <td>2022-05-28</td>\n",
       "      <td>CPEB3 ribozyme\\nHuman\\nhuman CPEB3 HDV-like ri...</td>\n",
       "      <td>&gt;7QR4_1|Chain A|U1 small nuclear ribonucleopro...</td>\n",
       "      <td>R1107_1</td>\n",
       "      <td>G</td>\n",
       "      <td>1</td>\n",
       "      <td>0.0</td>\n",
       "      <td>0.0</td>\n",
       "      <td>...</td>\n",
       "      <td>0.0</td>\n",
       "      <td>0.0</td>\n",
       "      <td>0.0</td>\n",
       "      <td>0.0</td>\n",
       "      <td>0.0</td>\n",
       "      <td>0.0</td>\n",
       "      <td>0.0</td>\n",
       "      <td>0.0</td>\n",
       "      <td>0.0</td>\n",
       "      <td>1</td>\n",
       "    </tr>\n",
       "  </tbody>\n",
       "</table>\n",
       "<p>1 rows × 24 columns</p>\n",
       "</div>"
      ],
      "text/plain": [
       "  target_id                                           sequence  \\\n",
       "0     R1107  GGGGGCCACAGCAGAAGCGUUCACGUCGCAGCCCCUGUCAGCCAUU...   \n",
       "\n",
       "  temporal_cutoff                                        description  \\\n",
       "0      2022-05-28  CPEB3 ribozyme\\nHuman\\nhuman CPEB3 HDV-like ri...   \n",
       "\n",
       "                                       all_sequences       ID resname  resid  \\\n",
       "0  >7QR4_1|Chain A|U1 small nuclear ribonucleopro...  R1107_1       G      1   \n",
       "\n",
       "   x_1  y_1  ...  x_3  y_3  z_3  x_4  y_4  z_4  x_5  y_5  z_5  pdb_monomer  \n",
       "0  0.0  0.0  ...  0.0  0.0  0.0  0.0  0.0  0.0  0.0  0.0  0.0            1  \n",
       "\n",
       "[1 rows x 24 columns]"
      ]
     },
     "execution_count": 10,
     "metadata": {},
     "output_type": "execute_result"
    }
   ],
   "source": [
    "#convert submission csv as same format as original training csv\n",
    "test_df=pd.read_csv(testing_path)\n",
    "test_complete_df=test_df.merge(submission_df, how=\"left\", on=\"target_id\")\n",
    "test_complete_df.head(1)"
   ]
  },
  {
   "cell_type": "code",
   "execution_count": 11,
   "id": "f3a9cf2a",
   "metadata": {
    "execution": {
     "iopub.execute_input": "2025-04-01T23:37:49.590933Z",
     "iopub.status.busy": "2025-04-01T23:37:49.590606Z",
     "iopub.status.idle": "2025-04-01T23:37:49.600938Z",
     "shell.execute_reply": "2025-04-01T23:37:49.599997Z"
    },
    "papermill": {
     "duration": 0.020633,
     "end_time": "2025-04-01T23:37:49.602671",
     "exception": false,
     "start_time": "2025-04-01T23:37:49.582038",
     "status": "completed"
    },
    "tags": []
   },
   "outputs": [
    {
     "data": {
      "text/plain": [
       "True"
      ]
     },
     "execution_count": 11,
     "metadata": {},
     "output_type": "execute_result"
    }
   ],
   "source": [
    "#The validation data is identical to the test data? (Suppose to be for future testing data updates)\n",
    "all(validation_df[list(test_complete_df.columns)]==test_complete_df)"
   ]
  },
  {
   "cell_type": "code",
   "execution_count": 12,
   "id": "8085328f",
   "metadata": {
    "execution": {
     "iopub.execute_input": "2025-04-01T23:37:49.619206Z",
     "iopub.status.busy": "2025-04-01T23:37:49.618831Z",
     "iopub.status.idle": "2025-04-01T23:37:49.624664Z",
     "shell.execute_reply": "2025-04-01T23:37:49.623606Z"
    },
    "papermill": {
     "duration": 0.015902,
     "end_time": "2025-04-01T23:37:49.626214",
     "exception": false,
     "start_time": "2025-04-01T23:37:49.610312",
     "status": "completed"
    },
    "tags": []
   },
   "outputs": [
    {
     "name": "stdout",
     "output_type": "stream",
     "text": [
      ">1ZC8_1|Chain A|TLD 16S ribosomal RNA|Thermus thermophilus (274)\n",
      "GGGGCUGAUUCUGGAUUCGACGGGAUAUUUCGGACGCGGGUUCAACUCCCGCCAGCUCC\n",
      ">1ZC8_10|Chain J[auth K]|SsrA-binding protein|Thermus thermophilus (274)\n",
      "GKSDKIIPIAENKEAKAKYDILETYEAGIVLKGSEVKSLREKGTVSFKDSFVRIENGEAWLYNLYIAPYKHATIENHDPLRKRKLLLHKREIMRLYGKVQEKGYTIIPLKLYWKNNKVKVLIALAKGKKL\n",
      ">1ZC8_11|Chain K[auth Y]|Elongation factor Tu|Thermus thermophilus (274)\n",
      "AKGEFIRTKPHVNVGTIGHVDHGKTTLTAALTYVAAAENPNVEVKDYGDIDKAPEERARGITINTAHVEYETAKRHYSHVDCPGHADYIKNMITGAAQMDGAILVVSAADGPMPQTREHILLARQVGVPYIVVFMNKVDMVDDPELLDLVEMEVRDLLNQYEFPGDEVPVIRGSALLALEEMHKNPKTKRGENEWVDKIWELLDAIDEYIPTPVRDVDKPFLMPVEDVFTITGRGTVATGRIERGKVKVGDEVEIVGLAPETRKTVVTGVEMHRKTLQEGIAGDNVGLLLRGVSREEVERGQVLAKPGSITPHTKFEASVYILKKEEGGRHTGFFTGYRPQFYFRTTDVTGVVRLPQGVEMVMPGDNVTFTVELIKPVALEEGLRFAIREGGRTVGAGVVTKILE\n",
      ">1ZC8_2|Chain B|H2 16S rRNA|Thermus thermophilus (274)\n",
      "UUGCGAAACAUGUAGG\n",
      ">1ZC8_3|Chain C|H2b d mRNA|Thermus thermophilus (274)\n",
      "CCCAAGGUGCAUGCGCAUGUAGUACCGAGGA\n",
      ">1ZC8_4|Chain D[auth G]|protein kinase 4 mRNA|Thermus thermophilus (274)\n",
      "CGAGGGGCGGUUGGCCUCGUAAAAAGCCGC\n",
      ">1ZC8_5|Chain E[auth F]|H5 16S ribosomal RNA|Thermus thermophilus (274)\n",
      "CUUUAGCAGCUUAAUAACCUGCUUAGAGC\n",
      ">1ZC8_6|Chain F[auth H]|protein kinase 2 mRNA|Thermus thermophilus (274)\n",
      "CCUCUCUCCCUAGCCUCCGCUCUUAGGACGGGGAUCAAGAGAGGUCAAACCCAAAAGAG\n",
      ">1ZC8_7|Chain G[auth I]|protein kinase 3|Thermus thermophilus (274)\n",
      "AUCGCGUGGAAGCCCUGCCUGGGGUUGAAGCGUUAAAACUUAAUCAGGC\n",
      ">1ZC8_8|Chain H[auth J]|protein kinase 4 mRNA|Thermus thermophilus (274)\n",
      "GUUUGUUAGUGGCGUGUCCGUCCGCAGCUGGCAAGCGAAUGUAAAGACUGAC\n",
      ">1ZC8_9|Chain I[auth Z]|H44 16S ribosomal RNA|Thermus thermophilus (274)\n",
      "GCCCGUCACGCCAUGGGAGCGGGCUCUACCCGAAGUCGCCGGGAGCCUACGGGCAGGCGCCGAGGGUAGGGCCCGUGACUGGGGCGAAGUC\n",
      "\n"
     ]
    }
   ],
   "source": [
    "print(train_full_df.loc[6500,'all_sequences'])"
   ]
  },
  {
   "cell_type": "markdown",
   "id": "fd70d2ed",
   "metadata": {
    "papermill": {
     "duration": 0.007291,
     "end_time": "2025-04-01T23:37:49.641611",
     "exception": false,
     "start_time": "2025-04-01T23:37:49.634320",
     "status": "completed"
    },
    "tags": []
   },
   "source": [
    "**Feature Engineering**\n",
    "- Add 3D structural information in the PDB database https://search.rcsb.org/#search-services\n",
    "- data augmentation & transfer learning: SPOT-RNA, pretrained on bpRNA database (stems, hairpin loops and pseudoknots)\n",
    "- sequences converted to 2D images: MXFold2 utilizes UFold process to then input into a CNN and efficiently generate results\n",
    "- ARES atom-level information instead of nucleotides (small training set used)\n",
    "- EternalFold: uses chemical mapping, and riboswitch–ligand binding affinity data\n"
   ]
  },
  {
   "cell_type": "code",
   "execution_count": 13,
   "id": "8369fdef",
   "metadata": {
    "execution": {
     "iopub.execute_input": "2025-04-01T23:37:49.658335Z",
     "iopub.status.busy": "2025-04-01T23:37:49.657954Z",
     "iopub.status.idle": "2025-04-01T23:37:49.689502Z",
     "shell.execute_reply": "2025-04-01T23:37:49.688395Z"
    },
    "papermill": {
     "duration": 0.042035,
     "end_time": "2025-04-01T23:37:49.691268",
     "exception": false,
     "start_time": "2025-04-01T23:37:49.649233",
     "status": "completed"
    },
    "tags": []
   },
   "outputs": [
    {
     "name": "stdout",
     "output_type": "stream",
     "text": [
      "False\n"
     ]
    },
    {
     "data": {
      "text/plain": [
       "4298"
      ]
     },
     "execution_count": 13,
     "metadata": {},
     "output_type": "execute_result"
    }
   ],
   "source": [
    "print(torch.cuda.is_available())\n",
    "len(train_full_df['pdb_monomer'].unique())"
   ]
  },
  {
   "cell_type": "code",
   "execution_count": 14,
   "id": "4e87ab3b",
   "metadata": {
    "execution": {
     "iopub.execute_input": "2025-04-01T23:37:49.708991Z",
     "iopub.status.busy": "2025-04-01T23:37:49.708664Z",
     "iopub.status.idle": "2025-04-01T23:38:46.204839Z",
     "shell.execute_reply": "2025-04-01T23:38:46.203663Z"
    },
    "papermill": {
     "duration": 56.515111,
     "end_time": "2025-04-01T23:38:46.214708",
     "exception": false,
     "start_time": "2025-04-01T23:37:49.699597",
     "status": "completed"
    },
    "tags": []
   },
   "outputs": [
    {
     "name": "stdout",
     "output_type": "stream",
     "text": [
      "unique ids: 692\n",
      "unique resname: 6\n",
      "['G' 'U' 'C' 'A' '-' 'X']\n",
      "total datapoints: 113616\n"
     ]
    },
    {
     "data": {
      "text/html": [
       "<div>\n",
       "<style scoped>\n",
       "    .dataframe tbody tr th:only-of-type {\n",
       "        vertical-align: middle;\n",
       "    }\n",
       "\n",
       "    .dataframe tbody tr th {\n",
       "        vertical-align: top;\n",
       "    }\n",
       "\n",
       "    .dataframe thead th {\n",
       "        text-align: right;\n",
       "    }\n",
       "</style>\n",
       "<table border=\"1\" class=\"dataframe\">\n",
       "  <thead>\n",
       "    <tr style=\"text-align: right;\">\n",
       "      <th></th>\n",
       "      <th>01</th>\n",
       "      <th>02</th>\n",
       "      <th>03</th>\n",
       "      <th>04</th>\n",
       "      <th>05</th>\n",
       "      <th>10</th>\n",
       "      <th>100440</th>\n",
       "      <th>10045</th>\n",
       "      <th>100673</th>\n",
       "      <th>10090</th>\n",
       "      <th>...</th>\n",
       "      <th>zb</th>\n",
       "      <th>zc</th>\n",
       "      <th>zd</th>\n",
       "      <th>ze</th>\n",
       "      <th>zf</th>\n",
       "      <th>zg</th>\n",
       "      <th>zh</th>\n",
       "      <th>zi</th>\n",
       "      <th>zika</th>\n",
       "      <th>zz</th>\n",
       "    </tr>\n",
       "  </thead>\n",
       "  <tbody>\n",
       "    <tr>\n",
       "      <th>0</th>\n",
       "      <td>0.0</td>\n",
       "      <td>0.0</td>\n",
       "      <td>0.0</td>\n",
       "      <td>0.0</td>\n",
       "      <td>0.0</td>\n",
       "      <td>0.0</td>\n",
       "      <td>0.0</td>\n",
       "      <td>0.0</td>\n",
       "      <td>0.0</td>\n",
       "      <td>0.0</td>\n",
       "      <td>...</td>\n",
       "      <td>0.0</td>\n",
       "      <td>0.0</td>\n",
       "      <td>0.0</td>\n",
       "      <td>0.0</td>\n",
       "      <td>0.0</td>\n",
       "      <td>0.0</td>\n",
       "      <td>0.0</td>\n",
       "      <td>0.0</td>\n",
       "      <td>0.0</td>\n",
       "      <td>0.0</td>\n",
       "    </tr>\n",
       "    <tr>\n",
       "      <th>1</th>\n",
       "      <td>0.0</td>\n",
       "      <td>0.0</td>\n",
       "      <td>0.0</td>\n",
       "      <td>0.0</td>\n",
       "      <td>0.0</td>\n",
       "      <td>0.0</td>\n",
       "      <td>0.0</td>\n",
       "      <td>0.0</td>\n",
       "      <td>0.0</td>\n",
       "      <td>0.0</td>\n",
       "      <td>...</td>\n",
       "      <td>0.0</td>\n",
       "      <td>0.0</td>\n",
       "      <td>0.0</td>\n",
       "      <td>0.0</td>\n",
       "      <td>0.0</td>\n",
       "      <td>0.0</td>\n",
       "      <td>0.0</td>\n",
       "      <td>0.0</td>\n",
       "      <td>0.0</td>\n",
       "      <td>0.0</td>\n",
       "    </tr>\n",
       "    <tr>\n",
       "      <th>2</th>\n",
       "      <td>0.0</td>\n",
       "      <td>0.0</td>\n",
       "      <td>0.0</td>\n",
       "      <td>0.0</td>\n",
       "      <td>0.0</td>\n",
       "      <td>0.0</td>\n",
       "      <td>0.0</td>\n",
       "      <td>0.0</td>\n",
       "      <td>0.0</td>\n",
       "      <td>0.0</td>\n",
       "      <td>...</td>\n",
       "      <td>0.0</td>\n",
       "      <td>0.0</td>\n",
       "      <td>0.0</td>\n",
       "      <td>0.0</td>\n",
       "      <td>0.0</td>\n",
       "      <td>0.0</td>\n",
       "      <td>0.0</td>\n",
       "      <td>0.0</td>\n",
       "      <td>0.0</td>\n",
       "      <td>0.0</td>\n",
       "    </tr>\n",
       "  </tbody>\n",
       "</table>\n",
       "<p>3 rows × 5000 columns</p>\n",
       "</div>"
      ],
      "text/plain": [
       "    01   02   03   04   05   10  100440  10045  100673  10090  ...   zb   zc  \\\n",
       "0  0.0  0.0  0.0  0.0  0.0  0.0     0.0    0.0     0.0    0.0  ...  0.0  0.0   \n",
       "1  0.0  0.0  0.0  0.0  0.0  0.0     0.0    0.0     0.0    0.0  ...  0.0  0.0   \n",
       "2  0.0  0.0  0.0  0.0  0.0  0.0     0.0    0.0     0.0    0.0  ...  0.0  0.0   \n",
       "\n",
       "    zd   ze   zf   zg   zh   zi  zika   zz  \n",
       "0  0.0  0.0  0.0  0.0  0.0  0.0   0.0  0.0  \n",
       "1  0.0  0.0  0.0  0.0  0.0  0.0   0.0  0.0  \n",
       "2  0.0  0.0  0.0  0.0  0.0  0.0   0.0  0.0  \n",
       "\n",
       "[3 rows x 5000 columns]"
      ]
     },
     "execution_count": 14,
     "metadata": {},
     "output_type": "execute_result"
    }
   ],
   "source": [
    "#simple sequence length feature\n",
    "train_full_df['seq_len']=train_full_df['sequence'].str.len()\n",
    "validation_df['seq_len']=validation_df['sequence'].str.len()\n",
    "test_complete_df['seq_len']=test_complete_df['sequence'].str.len()\n",
    "\n",
    "#categorical columns\n",
    "cat_cols=['target_id', 'resname']\n",
    "\n",
    "#dataset inspection\n",
    "print('unique ids:', len(train_full_df['target_id'].unique()))\n",
    "print('unique resname:', len(train_full_df['resname'].unique()))\n",
    "print(train_full_df['resname'].unique())\n",
    "print('total datapoints:', len(train_full_df))\n",
    "\n",
    "#Encode and create an embedding features from the target ids\n",
    "encoded_ids, id_maps= pd.factorize(train_full_df['target_id'])\n",
    "id_tensor=torch.tensor(encoded_ids, dtype=torch.long)\n",
    "embed_size=int(len(train_full_df['target_id'].unique()))\n",
    "embedding_dim=min(50, np.power(len(train_full_df['target_id'].unique()),0.25))\n",
    "#print(np.ceil(embedding_dim))\n",
    "embed_dim=int(np.ceil(embedding_dim))\n",
    "embed_layer=nn.Embedding(num_embeddings=embed_size, embedding_dim=embed_dim)\n",
    "embed_ids=embed_layer(id_tensor).detach().cpu().numpy()\n",
    "embed_id_df=pd.DataFrame(embed_ids, columns=[f'embedim_{i}' for i in range(embed_dim)])\n",
    "\n",
    "#TF-IDF transform description and all-sequences columns into word embedding features\n",
    "tfidf_vec=TfidfVectorizer(min_df=5, max_df=0.9, max_features=5000) \n",
    "\n",
    "train_full_df['combined_descrip_allseqs']=train_full_df['description']+' '+train_full_df['all_sequences']\n",
    "\n",
    "tfidf_all=tfidf_vec.fit_transform(train_full_df['combined_descrip_allseqs'])\n",
    "\n",
    "#after inspecting some allsequence text some have 'xxxxxxxxxx'\n",
    "# ft_names=list(tfidf_vec.get_feature_names_out())\n",
    "\n",
    "# pattern = f\"({re.escape('x')})\\\\1*\"\n",
    "# filter_words=[f for f in ft_names if not f.isnumeric() and not re.fullmatch(pattern, f)]\n",
    "\n",
    "# print(len(filter_words))\n",
    "\n",
    "tfidf_all_df=pd.DataFrame(tfidf_all.toarray(), columns=tfidf_vec.get_feature_names_out())\n",
    "\n",
    "tfidf_all_df.head(3)"
   ]
  },
  {
   "cell_type": "code",
   "execution_count": 15,
   "id": "10855257",
   "metadata": {
    "execution": {
     "iopub.execute_input": "2025-04-01T23:38:46.233914Z",
     "iopub.status.busy": "2025-04-01T23:38:46.233571Z",
     "iopub.status.idle": "2025-04-01T23:38:46.244547Z",
     "shell.execute_reply": "2025-04-01T23:38:46.243426Z"
    },
    "papermill": {
     "duration": 0.022136,
     "end_time": "2025-04-01T23:38:46.246217",
     "exception": false,
     "start_time": "2025-04-01T23:38:46.224081",
     "status": "completed"
    },
    "tags": []
   },
   "outputs": [
    {
     "data": {
      "text/html": [
       "<div>\n",
       "<style scoped>\n",
       "    .dataframe tbody tr th:only-of-type {\n",
       "        vertical-align: middle;\n",
       "    }\n",
       "\n",
       "    .dataframe tbody tr th {\n",
       "        vertical-align: top;\n",
       "    }\n",
       "\n",
       "    .dataframe thead th {\n",
       "        text-align: right;\n",
       "    }\n",
       "</style>\n",
       "<table border=\"1\" class=\"dataframe\">\n",
       "  <thead>\n",
       "    <tr style=\"text-align: right;\">\n",
       "      <th></th>\n",
       "      <th>embedim_0</th>\n",
       "      <th>embedim_1</th>\n",
       "      <th>embedim_2</th>\n",
       "      <th>embedim_3</th>\n",
       "      <th>embedim_4</th>\n",
       "      <th>embedim_5</th>\n",
       "    </tr>\n",
       "  </thead>\n",
       "  <tbody>\n",
       "    <tr>\n",
       "      <th>0</th>\n",
       "      <td>0.280414</td>\n",
       "      <td>0.399119</td>\n",
       "      <td>1.132147</td>\n",
       "      <td>-0.255212</td>\n",
       "      <td>1.176907</td>\n",
       "      <td>-0.21576</td>\n",
       "    </tr>\n",
       "  </tbody>\n",
       "</table>\n",
       "</div>"
      ],
      "text/plain": [
       "   embedim_0  embedim_1  embedim_2  embedim_3  embedim_4  embedim_5\n",
       "0   0.280414   0.399119   1.132147  -0.255212   1.176907   -0.21576"
      ]
     },
     "execution_count": 15,
     "metadata": {},
     "output_type": "execute_result"
    }
   ],
   "source": [
    "embed_id_df.head(1)"
   ]
  },
  {
   "cell_type": "code",
   "execution_count": 16,
   "id": "763fc5a8",
   "metadata": {
    "execution": {
     "iopub.execute_input": "2025-04-01T23:38:46.264623Z",
     "iopub.status.busy": "2025-04-01T23:38:46.264212Z",
     "iopub.status.idle": "2025-04-01T23:38:55.125451Z",
     "shell.execute_reply": "2025-04-01T23:38:55.124408Z"
    },
    "papermill": {
     "duration": 8.872399,
     "end_time": "2025-04-01T23:38:55.127313",
     "exception": false,
     "start_time": "2025-04-01T23:38:46.254914",
     "status": "completed"
    },
    "tags": []
   },
   "outputs": [
    {
     "data": {
      "text/html": [
       "<div>\n",
       "<style scoped>\n",
       "    .dataframe tbody tr th:only-of-type {\n",
       "        vertical-align: middle;\n",
       "    }\n",
       "\n",
       "    .dataframe tbody tr th {\n",
       "        vertical-align: top;\n",
       "    }\n",
       "\n",
       "    .dataframe thead th {\n",
       "        text-align: right;\n",
       "    }\n",
       "</style>\n",
       "<table border=\"1\" class=\"dataframe\">\n",
       "  <thead>\n",
       "    <tr style=\"text-align: right;\">\n",
       "      <th></th>\n",
       "      <th>aestivum</th>\n",
       "      <th>auth</th>\n",
       "      <th>bacillus</th>\n",
       "      <th>coli</th>\n",
       "      <th>cuniculus</th>\n",
       "      <th>drosophila</th>\n",
       "      <th>escherichia</th>\n",
       "      <th>homo</th>\n",
       "      <th>jannaschii</th>\n",
       "      <th>melanogaster</th>\n",
       "      <th>methanococcus</th>\n",
       "      <th>oryctolagus</th>\n",
       "      <th>sapiens</th>\n",
       "      <th>subtilis</th>\n",
       "      <th>thermophilus</th>\n",
       "      <th>thermus</th>\n",
       "      <th>triticum</th>\n",
       "    </tr>\n",
       "  </thead>\n",
       "  <tbody>\n",
       "    <tr>\n",
       "      <th>0</th>\n",
       "      <td>0.0</td>\n",
       "      <td>0.0</td>\n",
       "      <td>0.0</td>\n",
       "      <td>0.0</td>\n",
       "      <td>0.0</td>\n",
       "      <td>0.0</td>\n",
       "      <td>0.0</td>\n",
       "      <td>0.0</td>\n",
       "      <td>0.0</td>\n",
       "      <td>0.0</td>\n",
       "      <td>0.0</td>\n",
       "      <td>0.0</td>\n",
       "      <td>0.0</td>\n",
       "      <td>0.0</td>\n",
       "      <td>0.0</td>\n",
       "      <td>0.0</td>\n",
       "      <td>0.0</td>\n",
       "    </tr>\n",
       "    <tr>\n",
       "      <th>1</th>\n",
       "      <td>0.0</td>\n",
       "      <td>0.0</td>\n",
       "      <td>0.0</td>\n",
       "      <td>0.0</td>\n",
       "      <td>0.0</td>\n",
       "      <td>0.0</td>\n",
       "      <td>0.0</td>\n",
       "      <td>0.0</td>\n",
       "      <td>0.0</td>\n",
       "      <td>0.0</td>\n",
       "      <td>0.0</td>\n",
       "      <td>0.0</td>\n",
       "      <td>0.0</td>\n",
       "      <td>0.0</td>\n",
       "      <td>0.0</td>\n",
       "      <td>0.0</td>\n",
       "      <td>0.0</td>\n",
       "    </tr>\n",
       "    <tr>\n",
       "      <th>2</th>\n",
       "      <td>0.0</td>\n",
       "      <td>0.0</td>\n",
       "      <td>0.0</td>\n",
       "      <td>0.0</td>\n",
       "      <td>0.0</td>\n",
       "      <td>0.0</td>\n",
       "      <td>0.0</td>\n",
       "      <td>0.0</td>\n",
       "      <td>0.0</td>\n",
       "      <td>0.0</td>\n",
       "      <td>0.0</td>\n",
       "      <td>0.0</td>\n",
       "      <td>0.0</td>\n",
       "      <td>0.0</td>\n",
       "      <td>0.0</td>\n",
       "      <td>0.0</td>\n",
       "      <td>0.0</td>\n",
       "    </tr>\n",
       "  </tbody>\n",
       "</table>\n",
       "</div>"
      ],
      "text/plain": [
       "   aestivum  auth  bacillus  coli  cuniculus  drosophila  escherichia  homo  \\\n",
       "0       0.0   0.0       0.0   0.0        0.0         0.0          0.0   0.0   \n",
       "1       0.0   0.0       0.0   0.0        0.0         0.0          0.0   0.0   \n",
       "2       0.0   0.0       0.0   0.0        0.0         0.0          0.0   0.0   \n",
       "\n",
       "   jannaschii  melanogaster  methanococcus  oryctolagus  sapiens  subtilis  \\\n",
       "0         0.0           0.0            0.0          0.0      0.0       0.0   \n",
       "1         0.0           0.0            0.0          0.0      0.0       0.0   \n",
       "2         0.0           0.0            0.0          0.0      0.0       0.0   \n",
       "\n",
       "   thermophilus  thermus  triticum  \n",
       "0           0.0      0.0       0.0  \n",
       "1           0.0      0.0       0.0  \n",
       "2           0.0      0.0       0.0  "
      ]
     },
     "execution_count": 16,
     "metadata": {},
     "output_type": "execute_result"
    }
   ],
   "source": [
    "#try to reduce the number of word features\n",
    "var_selector=VarianceThreshold(threshold=0.01)\n",
    "da_select=var_selector.fit_transform(tfidf_all_df) #transform on test df\n",
    "ft_names=var_selector.get_feature_names_out()\n",
    "non_num_ftnames=[f for f in ft_names if not f.isnumeric()]\n",
    "reduced_wfts_df=pd.DataFrame(da_select, columns=ft_names)[non_num_ftnames]\n",
    "reduced_wfts_df.head(3)"
   ]
  },
  {
   "cell_type": "code",
   "execution_count": 17,
   "id": "272dbd42",
   "metadata": {
    "execution": {
     "iopub.execute_input": "2025-04-01T23:38:55.147221Z",
     "iopub.status.busy": "2025-04-01T23:38:55.146747Z",
     "iopub.status.idle": "2025-04-01T23:38:55.172982Z",
     "shell.execute_reply": "2025-04-01T23:38:55.171995Z"
    },
    "papermill": {
     "duration": 0.038279,
     "end_time": "2025-04-01T23:38:55.174840",
     "exception": false,
     "start_time": "2025-04-01T23:38:55.136561",
     "status": "completed"
    },
    "tags": []
   },
   "outputs": [
    {
     "data": {
      "text/html": [
       "<div>\n",
       "<style scoped>\n",
       "    .dataframe tbody tr th:only-of-type {\n",
       "        vertical-align: middle;\n",
       "    }\n",
       "\n",
       "    .dataframe tbody tr th {\n",
       "        vertical-align: top;\n",
       "    }\n",
       "\n",
       "    .dataframe thead th {\n",
       "        text-align: right;\n",
       "    }\n",
       "</style>\n",
       "<table border=\"1\" class=\"dataframe\">\n",
       "  <thead>\n",
       "    <tr style=\"text-align: right;\">\n",
       "      <th></th>\n",
       "      <th>A</th>\n",
       "      <th>C</th>\n",
       "      <th>G</th>\n",
       "      <th>U</th>\n",
       "      <th>X</th>\n",
       "    </tr>\n",
       "  </thead>\n",
       "  <tbody>\n",
       "    <tr>\n",
       "      <th>0</th>\n",
       "      <td>0</td>\n",
       "      <td>0</td>\n",
       "      <td>1</td>\n",
       "      <td>0</td>\n",
       "      <td>0</td>\n",
       "    </tr>\n",
       "    <tr>\n",
       "      <th>1</th>\n",
       "      <td>0</td>\n",
       "      <td>0</td>\n",
       "      <td>1</td>\n",
       "      <td>0</td>\n",
       "      <td>0</td>\n",
       "    </tr>\n",
       "    <tr>\n",
       "      <th>2</th>\n",
       "      <td>0</td>\n",
       "      <td>0</td>\n",
       "      <td>1</td>\n",
       "      <td>0</td>\n",
       "      <td>0</td>\n",
       "    </tr>\n",
       "  </tbody>\n",
       "</table>\n",
       "</div>"
      ],
      "text/plain": [
       "   A  C  G  U  X\n",
       "0  0  0  1  0  0\n",
       "1  0  0  1  0  0\n",
       "2  0  0  1  0  0"
      ]
     },
     "execution_count": 17,
     "metadata": {},
     "output_type": "execute_result"
    }
   ],
   "source": [
    "#Encode the resname\n",
    "ohe_resname=pd.get_dummies(train_full_df['resname'], dtype='int')\n",
    "#ohe_resname\n",
    "# ohe_rdf=pd.DataFrame(ohe_resname.toarray(), columns=ohe.get_features_names_out())\n",
    "ohe_resname=ohe_resname.drop(['-'], axis=1) #reduce dimensionality\n",
    "ohe_resname.head(3)"
   ]
  },
  {
   "cell_type": "code",
   "execution_count": 18,
   "id": "e96d9db0",
   "metadata": {
    "execution": {
     "iopub.execute_input": "2025-04-01T23:38:55.197428Z",
     "iopub.status.busy": "2025-04-01T23:38:55.197009Z",
     "iopub.status.idle": "2025-04-01T23:38:55.219851Z",
     "shell.execute_reply": "2025-04-01T23:38:55.218774Z"
    },
    "papermill": {
     "duration": 0.036361,
     "end_time": "2025-04-01T23:38:55.221832",
     "exception": false,
     "start_time": "2025-04-01T23:38:55.185471",
     "status": "completed"
    },
    "tags": []
   },
   "outputs": [
    {
     "data": {
      "text/plain": [
       "array([   1,    2,    3, ..., 4296, 4297, 4298])"
      ]
     },
     "execution_count": 18,
     "metadata": {},
     "output_type": "execute_result"
    }
   ],
   "source": [
    "train_full_df['pdb_monomer']=train_full_df['pdb_monomer'].astype(int)\n",
    "train_full_df['pdb_monomer'].unique()"
   ]
  },
  {
   "cell_type": "code",
   "execution_count": 19,
   "id": "4a9ab552",
   "metadata": {
    "execution": {
     "iopub.execute_input": "2025-04-01T23:38:55.244617Z",
     "iopub.status.busy": "2025-04-01T23:38:55.244277Z",
     "iopub.status.idle": "2025-04-01T23:38:55.300541Z",
     "shell.execute_reply": "2025-04-01T23:38:55.299514Z"
    },
    "papermill": {
     "duration": 0.069523,
     "end_time": "2025-04-01T23:38:55.302132",
     "exception": false,
     "start_time": "2025-04-01T23:38:55.232609",
     "status": "completed"
    },
    "tags": []
   },
   "outputs": [
    {
     "data": {
      "text/html": [
       "<div>\n",
       "<style scoped>\n",
       "    .dataframe tbody tr th:only-of-type {\n",
       "        vertical-align: middle;\n",
       "    }\n",
       "\n",
       "    .dataframe tbody tr th {\n",
       "        vertical-align: top;\n",
       "    }\n",
       "\n",
       "    .dataframe thead th {\n",
       "        text-align: right;\n",
       "    }\n",
       "</style>\n",
       "<table border=\"1\" class=\"dataframe\">\n",
       "  <thead>\n",
       "    <tr style=\"text-align: right;\">\n",
       "      <th></th>\n",
       "      <th>embedim_0</th>\n",
       "      <th>embedim_1</th>\n",
       "      <th>embedim_2</th>\n",
       "      <th>embedim_3</th>\n",
       "      <th>embedim_4</th>\n",
       "      <th>embedim_5</th>\n",
       "      <th>resid</th>\n",
       "      <th>pdb_monomer</th>\n",
       "      <th>seq_len</th>\n",
       "      <th>aestivum</th>\n",
       "      <th>...</th>\n",
       "      <th>sapiens</th>\n",
       "      <th>subtilis</th>\n",
       "      <th>thermophilus</th>\n",
       "      <th>thermus</th>\n",
       "      <th>triticum</th>\n",
       "      <th>A</th>\n",
       "      <th>C</th>\n",
       "      <th>G</th>\n",
       "      <th>U</th>\n",
       "      <th>X</th>\n",
       "    </tr>\n",
       "  </thead>\n",
       "  <tbody>\n",
       "    <tr>\n",
       "      <th>0</th>\n",
       "      <td>0.280414</td>\n",
       "      <td>0.399119</td>\n",
       "      <td>1.132147</td>\n",
       "      <td>-0.255212</td>\n",
       "      <td>1.176907</td>\n",
       "      <td>-0.21576</td>\n",
       "      <td>1</td>\n",
       "      <td>1</td>\n",
       "      <td>29</td>\n",
       "      <td>0.0</td>\n",
       "      <td>...</td>\n",
       "      <td>0.0</td>\n",
       "      <td>0.0</td>\n",
       "      <td>0.0</td>\n",
       "      <td>0.0</td>\n",
       "      <td>0.0</td>\n",
       "      <td>0</td>\n",
       "      <td>0</td>\n",
       "      <td>1</td>\n",
       "      <td>0</td>\n",
       "      <td>0</td>\n",
       "    </tr>\n",
       "    <tr>\n",
       "      <th>1</th>\n",
       "      <td>0.280414</td>\n",
       "      <td>0.399119</td>\n",
       "      <td>1.132147</td>\n",
       "      <td>-0.255212</td>\n",
       "      <td>1.176907</td>\n",
       "      <td>-0.21576</td>\n",
       "      <td>2</td>\n",
       "      <td>2</td>\n",
       "      <td>29</td>\n",
       "      <td>0.0</td>\n",
       "      <td>...</td>\n",
       "      <td>0.0</td>\n",
       "      <td>0.0</td>\n",
       "      <td>0.0</td>\n",
       "      <td>0.0</td>\n",
       "      <td>0.0</td>\n",
       "      <td>0</td>\n",
       "      <td>0</td>\n",
       "      <td>1</td>\n",
       "      <td>0</td>\n",
       "      <td>0</td>\n",
       "    </tr>\n",
       "    <tr>\n",
       "      <th>2</th>\n",
       "      <td>0.280414</td>\n",
       "      <td>0.399119</td>\n",
       "      <td>1.132147</td>\n",
       "      <td>-0.255212</td>\n",
       "      <td>1.176907</td>\n",
       "      <td>-0.21576</td>\n",
       "      <td>3</td>\n",
       "      <td>3</td>\n",
       "      <td>29</td>\n",
       "      <td>0.0</td>\n",
       "      <td>...</td>\n",
       "      <td>0.0</td>\n",
       "      <td>0.0</td>\n",
       "      <td>0.0</td>\n",
       "      <td>0.0</td>\n",
       "      <td>0.0</td>\n",
       "      <td>0</td>\n",
       "      <td>0</td>\n",
       "      <td>1</td>\n",
       "      <td>0</td>\n",
       "      <td>0</td>\n",
       "    </tr>\n",
       "  </tbody>\n",
       "</table>\n",
       "<p>3 rows × 31 columns</p>\n",
       "</div>"
      ],
      "text/plain": [
       "   embedim_0  embedim_1  embedim_2  embedim_3  embedim_4  embedim_5  resid  \\\n",
       "0   0.280414   0.399119   1.132147  -0.255212   1.176907   -0.21576      1   \n",
       "1   0.280414   0.399119   1.132147  -0.255212   1.176907   -0.21576      2   \n",
       "2   0.280414   0.399119   1.132147  -0.255212   1.176907   -0.21576      3   \n",
       "\n",
       "   pdb_monomer  seq_len  aestivum  ...  sapiens  subtilis  thermophilus  \\\n",
       "0            1       29       0.0  ...      0.0       0.0           0.0   \n",
       "1            2       29       0.0  ...      0.0       0.0           0.0   \n",
       "2            3       29       0.0  ...      0.0       0.0           0.0   \n",
       "\n",
       "   thermus  triticum  A  C  G  U  X  \n",
       "0      0.0       0.0  0  0  1  0  0  \n",
       "1      0.0       0.0  0  0  1  0  0  \n",
       "2      0.0       0.0  0  0  1  0  0  \n",
       "\n",
       "[3 rows x 31 columns]"
      ]
     },
     "execution_count": 19,
     "metadata": {},
     "output_type": "execute_result"
    }
   ],
   "source": [
    "#numerical columns\n",
    "num_cols=['resid', 'pdb_monomer', 'seq_len']\n",
    "\n",
    "#TODO: merge features into X and run model; catBoost can use train_full_df['sequence']\n",
    "full_prep_train=pd.concat([embed_id_df,train_full_df[num_cols], reduced_wfts_df, ohe_resname], axis=1)\n",
    "full_prep_train.head(3)"
   ]
  },
  {
   "cell_type": "code",
   "execution_count": 20,
   "id": "71c8138e",
   "metadata": {
    "execution": {
     "iopub.execute_input": "2025-04-01T23:38:55.322537Z",
     "iopub.status.busy": "2025-04-01T23:38:55.322200Z",
     "iopub.status.idle": "2025-04-01T23:38:55.338383Z",
     "shell.execute_reply": "2025-04-01T23:38:55.337293Z"
    },
    "papermill": {
     "duration": 0.028756,
     "end_time": "2025-04-01T23:38:55.340192",
     "exception": false,
     "start_time": "2025-04-01T23:38:55.311436",
     "status": "completed"
    },
    "tags": []
   },
   "outputs": [],
   "source": [
    "tfidf_vec=TfidfVectorizer(min_df=5, max_df=0.9, max_features=5000)\n",
    "var_selector=VarianceThreshold(threshold=0.01)\n",
    "training_id_maps=[]\n",
    "training_embed_layer={}\n",
    "training_embed_dim={}\n",
    "\n",
    "def preprocessing(df_path, label_path, dataset_type):\n",
    "    if dataset_type not in ['train', 'validation', 'test']:\n",
    "       return \"Error! Must choose option out of 'train', 'validation', or 'test'\"\n",
    "    \n",
    "    df=pd.read_csv(df_path)\n",
    "    ldf=pd.read_csv(label_path)\n",
    "    \n",
    "    if dataset_type=='train':\n",
    "        df=df[df['temporal_cutoff']<\"2022-05-27\"]\n",
    "    ldf['target_id']=ldf['ID'].str.rsplit('_',n=1).str[0]\n",
    "    ldf['pdb_monomer']=ldf['ID'].str.rsplit('_',n=1).str[1]\n",
    "    merged_df=df.merge(ldf, how='left', on='target_id')\n",
    "\n",
    "    #fill in nan description in all_sequences with \"missing\"\n",
    "    merged_df['all_sequences']=merged_df['all_sequences'].astype(str).fillna(\"missing\")\n",
    "\n",
    "    #fill in missing coordinates with mean values\n",
    "    target_coordinates=['x_1','y_1','z_1']\n",
    "    for t in target_coordinates:\n",
    "        t_mean=merged_df[t].mean()\n",
    "        merged_df[t]=merged_df[t].fillna(t_mean)\n",
    "\n",
    "    merged_df['pdb_monomer']=merged_df['pdb_monomer'].astype(int) #pdb_monomer feature\n",
    "    merged_df['seq_len']=merged_df['sequence'].str.len() #sequence len feature\n",
    "    \n",
    "    #encoding target id and creating embeddings\n",
    "    if dataset_type=='train':\n",
    "        encoded_ids, id_maps=pd.factorize(merged_df['target_id']) \n",
    "        training_id_maps.extend(id_maps)\n",
    "        id_tensor=torch.tensor(encoded_ids, dtype=torch.long)\n",
    "        embed_size=int(len(merged_df['target_id'].unique()))\n",
    "        embedding_dim=min(50, np.power(len(merged_df['target_id'].unique()),0.25)) #rule of thumb\n",
    "        embed_dim=int(np.ceil(embedding_dim))\n",
    "        training_embed_dim['train']=embed_dim\n",
    "        embed_layer=nn.Embedding(num_embeddings=embed_size, embedding_dim=embed_dim)\n",
    "        training_embed_layer['train_embed_layer']=embed_layer\n",
    "        embed_ids=embed_layer(id_tensor).detach().cpu().numpy()\n",
    "        embed_id_df=pd.DataFrame(embed_ids, columns=[f'embedim_{i}' for i in range(embed_dim)])\n",
    "    elif dataset_type==\"validation\" or dataset_type==\"test\":\n",
    "        map_list=list(training_id_maps)\n",
    "        encoded_ids=pd.Series(merged_df['target_id']).map({cat:i for i, cat in enumerate(map_list)}).fillna(-1).astype(int)\n",
    "        id_tensor=torch.tensor(encoded_ids.clip(0), dtype=torch.long) #make sure no unknown categories are passed to embeddings\n",
    "        embed_ids=training_embed_layer['train_embed_layer'](id_tensor).detach().cpu().numpy()\n",
    "        embed_id_df=pd.DataFrame(embed_ids, columns=[f'embedim_{i}' for i in range(training_embed_dim['train'])])\n",
    "    \n",
    "    #tf-idf transformed description and all-sequences columns into word embedding features\n",
    "    merged_df['combined__descrip_allseqs']=merged_df['description']+' '+merged_df['all_sequences']\n",
    "    if dataset_type==\"train\":\n",
    "        tfidf_all=tfidf_vec.fit_transform(merged_df['combined__descrip_allseqs'])\n",
    "        tfidf_all_df=pd.DataFrame(tfidf_all.toarray(), columns=tfidf_vec.get_feature_names_out())\n",
    "        da_select=var_selector.fit_transform(tfidf_all_df) #transform on test df\n",
    "    elif dataset_type==\"validation\" and (tfidf_vec.get_feature_names_out().size!=0):\n",
    "        tfidf_all=tfidf_vec.transform(merged_df['combined__descrip_allseqs'])\n",
    "        tfidf_all_df=pd.DataFrame(tfidf_all.toarray(), columns=tfidf_vec.get_feature_names_out())\n",
    "        da_select=var_selector.transform(tfidf_all_df) \n",
    "    elif dataset_type==\"test\" and (tfidf_vec.get_feature_names_out().size!=0):\n",
    "        tfidf_all=tfidf_vec.transform(merged_df['combined__descrip_allseqs'])\n",
    "        tfidf_all_df=pd.DataFrame(tfidf_all.toarray(), columns=tfidf_vec.get_feature_names_out())\n",
    "        da_select=var_selector.transform(tfidf_all_df) \n",
    "    ft_names=var_selector.get_feature_names_out()\n",
    "    non_num_ftnames=[f for f in ft_names if not f.isnumeric()]\n",
    "    reduced_wfts_df=pd.DataFrame(da_select, columns=ft_names)[non_num_ftnames]\n",
    "    \n",
    "    #resname feature: RNA A-U, C-G pairings\n",
    "    ohe_resname=pd.get_dummies(merged_df['resname'], dtype='int') \n",
    "    if '-' in ohe_resname.columns:\n",
    "        ohe_resname=ohe_resname.drop(['-'], axis=1)\n",
    "    if 'X' in ohe_resname.columns:\n",
    "        ohe_resname=ohe_resname.drop(['X'], axis=1)\n",
    "\n",
    "    num_cols=['resid', 'pdb_monomer', 'seq_len']\n",
    "    final_df=pd.concat([embed_id_df,merged_df[num_cols], reduced_wfts_df, ohe_resname], axis=1)\n",
    "\n",
    "    return final_df, merged_df[target_coordinates]"
   ]
  },
  {
   "cell_type": "code",
   "execution_count": 21,
   "id": "8a1350d0",
   "metadata": {
    "execution": {
     "iopub.execute_input": "2025-04-01T23:38:55.363599Z",
     "iopub.status.busy": "2025-04-01T23:38:55.363222Z",
     "iopub.status.idle": "2025-04-01T23:40:10.946286Z",
     "shell.execute_reply": "2025-04-01T23:40:10.944680Z"
    },
    "papermill": {
     "duration": 75.599119,
     "end_time": "2025-04-01T23:40:10.950146",
     "exception": false,
     "start_time": "2025-04-01T23:38:55.351027",
     "status": "completed"
    },
    "tags": []
   },
   "outputs": [],
   "source": [
    "#streamline the preprocessing for validation and test sets; run evaluations\n",
    "training_df, training_coord=preprocessing(df_path=training_path, label_path=training_labels_path, dataset_type='train')"
   ]
  },
  {
   "cell_type": "code",
   "execution_count": 22,
   "id": "cd4f4df7",
   "metadata": {
    "execution": {
     "iopub.execute_input": "2025-04-01T23:40:10.973318Z",
     "iopub.status.busy": "2025-04-01T23:40:10.972896Z",
     "iopub.status.idle": "2025-04-01T23:40:10.979484Z",
     "shell.execute_reply": "2025-04-01T23:40:10.978414Z"
    },
    "papermill": {
     "duration": 0.018874,
     "end_time": "2025-04-01T23:40:10.980976",
     "exception": false,
     "start_time": "2025-04-01T23:40:10.962102",
     "status": "completed"
    },
    "tags": []
   },
   "outputs": [
    {
     "data": {
      "text/plain": [
       "(113616, 30)"
      ]
     },
     "execution_count": 22,
     "metadata": {},
     "output_type": "execute_result"
    }
   ],
   "source": [
    "# all(training_df==full_prep_train)\n",
    "# if training_id_maps:\n",
    "#     print(True)\n",
    "# training_embed_layer\n",
    "training_df.shape\n",
    "#training_coord[['x_1']]"
   ]
  },
  {
   "cell_type": "code",
   "execution_count": 23,
   "id": "fc0288e0",
   "metadata": {
    "execution": {
     "iopub.execute_input": "2025-04-01T23:40:11.000668Z",
     "iopub.status.busy": "2025-04-01T23:40:11.000232Z",
     "iopub.status.idle": "2025-04-01T23:40:11.276371Z",
     "shell.execute_reply": "2025-04-01T23:40:11.275311Z"
    },
    "papermill": {
     "duration": 0.288058,
     "end_time": "2025-04-01T23:40:11.278384",
     "exception": false,
     "start_time": "2025-04-01T23:40:10.990326",
     "status": "completed"
    },
    "tags": []
   },
   "outputs": [],
   "source": [
    "validation_df, validation_coord=preprocessing(df_path=validation_path, label_path=validation_labels_path, dataset_type='validation')"
   ]
  },
  {
   "cell_type": "code",
   "execution_count": 24,
   "id": "f758c628",
   "metadata": {
    "execution": {
     "iopub.execute_input": "2025-04-01T23:40:11.298258Z",
     "iopub.status.busy": "2025-04-01T23:40:11.297905Z",
     "iopub.status.idle": "2025-04-01T23:40:11.303238Z",
     "shell.execute_reply": "2025-04-01T23:40:11.302125Z"
    },
    "papermill": {
     "duration": 0.016624,
     "end_time": "2025-04-01T23:40:11.304637",
     "exception": false,
     "start_time": "2025-04-01T23:40:11.288013",
     "status": "completed"
    },
    "tags": []
   },
   "outputs": [
    {
     "name": "stdout",
     "output_type": "stream",
     "text": [
      "(2515, 30)\n"
     ]
    }
   ],
   "source": [
    "validation_df.head(1)\n",
    "print(validation_df.shape)"
   ]
  },
  {
   "cell_type": "code",
   "execution_count": 25,
   "id": "a80dd342",
   "metadata": {
    "execution": {
     "iopub.execute_input": "2025-04-01T23:40:11.324189Z",
     "iopub.status.busy": "2025-04-01T23:40:11.323837Z",
     "iopub.status.idle": "2025-04-01T23:40:11.556866Z",
     "shell.execute_reply": "2025-04-01T23:40:11.555523Z"
    },
    "papermill": {
     "duration": 0.244756,
     "end_time": "2025-04-01T23:40:11.558607",
     "exception": false,
     "start_time": "2025-04-01T23:40:11.313851",
     "status": "completed"
    },
    "tags": []
   },
   "outputs": [
    {
     "name": "stdout",
     "output_type": "stream",
     "text": [
      "(2515, 30)\n"
     ]
    }
   ],
   "source": [
    "#testing_coord should be empty since not provided initially\n",
    "testing_df, testing_coord=preprocessing(df_path=testing_path, label_path=submission_path, dataset_type='test')\n",
    "testing_df.head(1)\n",
    "print(testing_df.shape)"
   ]
  },
  {
   "cell_type": "code",
   "execution_count": 26,
   "id": "edfbe3d4",
   "metadata": {
    "execution": {
     "iopub.execute_input": "2025-04-01T23:40:11.579155Z",
     "iopub.status.busy": "2025-04-01T23:40:11.578806Z",
     "iopub.status.idle": "2025-04-01T23:40:11.585529Z",
     "shell.execute_reply": "2025-04-01T23:40:11.584217Z"
    },
    "papermill": {
     "duration": 0.018934,
     "end_time": "2025-04-01T23:40:11.587326",
     "exception": false,
     "start_time": "2025-04-01T23:40:11.568392",
     "status": "completed"
    },
    "tags": []
   },
   "outputs": [
    {
     "name": "stdout",
     "output_type": "stream",
     "text": [
      "Index(['embedim_0', 'embedim_1', 'embedim_2', 'embedim_3', 'embedim_4',\n",
      "       'embedim_5', 'resid', 'pdb_monomer', 'seq_len', 'aestivum', 'auth',\n",
      "       'bacillus', 'coli', 'cuniculus', 'drosophila', 'escherichia', 'homo',\n",
      "       'jannaschii', 'melanogaster', 'methanococcus', 'oryctolagus', 'sapiens',\n",
      "       'subtilis', 'thermophilus', 'thermus', 'triticum', 'A', 'C', 'G', 'U'],\n",
      "      dtype='object')\n",
      "Index(['embedim_0', 'embedim_1', 'embedim_2', 'embedim_3', 'embedim_4',\n",
      "       'embedim_5', 'resid', 'pdb_monomer', 'seq_len', 'aestivum', 'auth',\n",
      "       'bacillus', 'coli', 'cuniculus', 'drosophila', 'escherichia', 'homo',\n",
      "       'jannaschii', 'melanogaster', 'methanococcus', 'oryctolagus', 'sapiens',\n",
      "       'subtilis', 'thermophilus', 'thermus', 'triticum', 'A', 'C', 'G', 'U'],\n",
      "      dtype='object')\n"
     ]
    }
   ],
   "source": [
    "for tc in list(training_df.columns): \n",
    "    if tc not in list(validation_df.columns):\n",
    "        print(tc)\n",
    "print(training_df.columns)\n",
    "print(validation_df.columns)"
   ]
  },
  {
   "cell_type": "code",
   "execution_count": 27,
   "id": "63c5a20a",
   "metadata": {
    "execution": {
     "iopub.execute_input": "2025-04-01T23:40:11.607656Z",
     "iopub.status.busy": "2025-04-01T23:40:11.607248Z",
     "iopub.status.idle": "2025-04-01T23:40:14.433608Z",
     "shell.execute_reply": "2025-04-01T23:40:14.432431Z"
    },
    "papermill": {
     "duration": 2.838743,
     "end_time": "2025-04-01T23:40:14.435573",
     "exception": false,
     "start_time": "2025-04-01T23:40:11.596830",
     "status": "completed"
    },
    "tags": []
   },
   "outputs": [],
   "source": [
    "#y: coordinates\n",
    "y_list=training_coordinates\n",
    "\n",
    "model_yi={}\n",
    "\n",
    "for y in y_list:\n",
    "    xgboost_model=xgb.XGBRegressor(\n",
    "        objective='reg:squarederror', #since there are negative coordinates\n",
    "        n_estimators=100 , \n",
    "        max_depth=7,\n",
    "        learning_rate=0.1,\n",
    "        subsample=0.6,\n",
    "        colsample_bytree=0.6\n",
    "        )\n",
    "    \n",
    "    xgboost_model.fit(training_df, training_coord[[y]])\n",
    "    model_yi[y]=xgboost_model"
   ]
  },
  {
   "cell_type": "code",
   "execution_count": 28,
   "id": "24eeeed9",
   "metadata": {
    "execution": {
     "iopub.execute_input": "2025-04-01T23:40:14.458239Z",
     "iopub.status.busy": "2025-04-01T23:40:14.457846Z",
     "iopub.status.idle": "2025-04-01T23:40:14.498842Z",
     "shell.execute_reply": "2025-04-01T23:40:14.497626Z"
    },
    "papermill": {
     "duration": 0.053402,
     "end_time": "2025-04-01T23:40:14.500886",
     "exception": false,
     "start_time": "2025-04-01T23:40:14.447484",
     "status": "completed"
    },
    "tags": []
   },
   "outputs": [],
   "source": [
    "from collections import defaultdict\n",
    "validation_predictions={}\n",
    "validation_results=defaultdict(list)\n",
    "\n",
    "for y in y_list:\n",
    "    coord_preds=model_yi[y].predict(validation_df)\n",
    "    rmse=np.sqrt(mean_squared_error(validation_coord[y], coord_preds))\n",
    "    validation_predictions[y]=coord_preds\n",
    "    validation_results[y].append(rmse)\n",
    "    "
   ]
  },
  {
   "cell_type": "code",
   "execution_count": 29,
   "id": "4c568e7d",
   "metadata": {
    "execution": {
     "iopub.execute_input": "2025-04-01T23:40:14.523488Z",
     "iopub.status.busy": "2025-04-01T23:40:14.523090Z",
     "iopub.status.idle": "2025-04-01T23:40:14.533739Z",
     "shell.execute_reply": "2025-04-01T23:40:14.532649Z"
    },
    "papermill": {
     "duration": 0.022386,
     "end_time": "2025-04-01T23:40:14.535319",
     "exception": false,
     "start_time": "2025-04-01T23:40:14.512933",
     "status": "completed"
    },
    "tags": []
   },
   "outputs": [
    {
     "data": {
      "text/html": [
       "<div>\n",
       "<style scoped>\n",
       "    .dataframe tbody tr th:only-of-type {\n",
       "        vertical-align: middle;\n",
       "    }\n",
       "\n",
       "    .dataframe tbody tr th {\n",
       "        vertical-align: top;\n",
       "    }\n",
       "\n",
       "    .dataframe thead th {\n",
       "        text-align: right;\n",
       "    }\n",
       "</style>\n",
       "<table border=\"1\" class=\"dataframe\">\n",
       "  <thead>\n",
       "    <tr style=\"text-align: right;\">\n",
       "      <th></th>\n",
       "      <th>x_1</th>\n",
       "      <th>y_1</th>\n",
       "      <th>z_1</th>\n",
       "    </tr>\n",
       "  </thead>\n",
       "  <tbody>\n",
       "    <tr>\n",
       "      <th>0</th>\n",
       "      <td>7.722833e+16</td>\n",
       "      <td>7.722833e+16</td>\n",
       "      <td>7.722833e+16</td>\n",
       "    </tr>\n",
       "  </tbody>\n",
       "</table>\n",
       "</div>"
      ],
      "text/plain": [
       "            x_1           y_1           z_1\n",
       "0  7.722833e+16  7.722833e+16  7.722833e+16"
      ]
     },
     "execution_count": 29,
     "metadata": {},
     "output_type": "execute_result"
    }
   ],
   "source": [
    "#inspect\n",
    "pd.DataFrame(validation_results)"
   ]
  },
  {
   "cell_type": "code",
   "execution_count": 30,
   "id": "f991120e",
   "metadata": {
    "execution": {
     "iopub.execute_input": "2025-04-01T23:40:14.556129Z",
     "iopub.status.busy": "2025-04-01T23:40:14.555759Z",
     "iopub.status.idle": "2025-04-01T23:40:14.567859Z",
     "shell.execute_reply": "2025-04-01T23:40:14.566813Z"
    },
    "papermill": {
     "duration": 0.024081,
     "end_time": "2025-04-01T23:40:14.569423",
     "exception": false,
     "start_time": "2025-04-01T23:40:14.545342",
     "status": "completed"
    },
    "tags": []
   },
   "outputs": [
    {
     "data": {
      "text/html": [
       "<div>\n",
       "<style scoped>\n",
       "    .dataframe tbody tr th:only-of-type {\n",
       "        vertical-align: middle;\n",
       "    }\n",
       "\n",
       "    .dataframe tbody tr th {\n",
       "        vertical-align: top;\n",
       "    }\n",
       "\n",
       "    .dataframe thead th {\n",
       "        text-align: right;\n",
       "    }\n",
       "</style>\n",
       "<table border=\"1\" class=\"dataframe\">\n",
       "  <thead>\n",
       "    <tr style=\"text-align: right;\">\n",
       "      <th></th>\n",
       "      <th>x_1</th>\n",
       "      <th>y_1</th>\n",
       "      <th>z_1</th>\n",
       "    </tr>\n",
       "  </thead>\n",
       "  <tbody>\n",
       "    <tr>\n",
       "      <th>0</th>\n",
       "      <td>-5.499000</td>\n",
       "      <td>8.520000</td>\n",
       "      <td>8.605000</td>\n",
       "    </tr>\n",
       "    <tr>\n",
       "      <th>1</th>\n",
       "      <td>-5.826000</td>\n",
       "      <td>10.453000</td>\n",
       "      <td>14.010000</td>\n",
       "    </tr>\n",
       "    <tr>\n",
       "      <th>2</th>\n",
       "      <td>-5.849000</td>\n",
       "      <td>14.768000</td>\n",
       "      <td>17.584999</td>\n",
       "    </tr>\n",
       "    <tr>\n",
       "      <th>3</th>\n",
       "      <td>-5.784000</td>\n",
       "      <td>19.985001</td>\n",
       "      <td>18.666000</td>\n",
       "    </tr>\n",
       "    <tr>\n",
       "      <th>4</th>\n",
       "      <td>-5.755000</td>\n",
       "      <td>25.533001</td>\n",
       "      <td>17.132999</td>\n",
       "    </tr>\n",
       "    <tr>\n",
       "      <th>...</th>\n",
       "      <td>...</td>\n",
       "      <td>...</td>\n",
       "      <td>...</td>\n",
       "    </tr>\n",
       "    <tr>\n",
       "      <th>2510</th>\n",
       "      <td>87.870003</td>\n",
       "      <td>105.432999</td>\n",
       "      <td>115.183998</td>\n",
       "    </tr>\n",
       "    <tr>\n",
       "      <th>2511</th>\n",
       "      <td>92.911003</td>\n",
       "      <td>105.394997</td>\n",
       "      <td>113.741997</td>\n",
       "    </tr>\n",
       "    <tr>\n",
       "      <th>2512</th>\n",
       "      <td>99.012001</td>\n",
       "      <td>105.749001</td>\n",
       "      <td>113.073997</td>\n",
       "    </tr>\n",
       "    <tr>\n",
       "      <th>2513</th>\n",
       "      <td>103.861000</td>\n",
       "      <td>103.453003</td>\n",
       "      <td>114.589996</td>\n",
       "    </tr>\n",
       "    <tr>\n",
       "      <th>2514</th>\n",
       "      <td>106.745003</td>\n",
       "      <td>95.313004</td>\n",
       "      <td>112.320999</td>\n",
       "    </tr>\n",
       "  </tbody>\n",
       "</table>\n",
       "<p>2515 rows × 3 columns</p>\n",
       "</div>"
      ],
      "text/plain": [
       "             x_1         y_1         z_1\n",
       "0      -5.499000    8.520000    8.605000\n",
       "1      -5.826000   10.453000   14.010000\n",
       "2      -5.849000   14.768000   17.584999\n",
       "3      -5.784000   19.985001   18.666000\n",
       "4      -5.755000   25.533001   17.132999\n",
       "...          ...         ...         ...\n",
       "2510   87.870003  105.432999  115.183998\n",
       "2511   92.911003  105.394997  113.741997\n",
       "2512   99.012001  105.749001  113.073997\n",
       "2513  103.861000  103.453003  114.589996\n",
       "2514  106.745003   95.313004  112.320999\n",
       "\n",
       "[2515 rows x 3 columns]"
      ]
     },
     "execution_count": 30,
     "metadata": {},
     "output_type": "execute_result"
    }
   ],
   "source": [
    "validation_coord[y_list]"
   ]
  },
  {
   "cell_type": "code",
   "execution_count": 31,
   "id": "72a37722",
   "metadata": {
    "execution": {
     "iopub.execute_input": "2025-04-01T23:40:14.590821Z",
     "iopub.status.busy": "2025-04-01T23:40:14.590453Z",
     "iopub.status.idle": "2025-04-01T23:40:14.601968Z",
     "shell.execute_reply": "2025-04-01T23:40:14.600860Z"
    },
    "papermill": {
     "duration": 0.02408,
     "end_time": "2025-04-01T23:40:14.603644",
     "exception": false,
     "start_time": "2025-04-01T23:40:14.579564",
     "status": "completed"
    },
    "tags": []
   },
   "outputs": [
    {
     "data": {
      "text/html": [
       "<div>\n",
       "<style scoped>\n",
       "    .dataframe tbody tr th:only-of-type {\n",
       "        vertical-align: middle;\n",
       "    }\n",
       "\n",
       "    .dataframe tbody tr th {\n",
       "        vertical-align: top;\n",
       "    }\n",
       "\n",
       "    .dataframe thead th {\n",
       "        text-align: right;\n",
       "    }\n",
       "</style>\n",
       "<table border=\"1\" class=\"dataframe\">\n",
       "  <thead>\n",
       "    <tr style=\"text-align: right;\">\n",
       "      <th></th>\n",
       "      <th>x_1</th>\n",
       "      <th>y_1</th>\n",
       "      <th>z_1</th>\n",
       "    </tr>\n",
       "  </thead>\n",
       "  <tbody>\n",
       "    <tr>\n",
       "      <th>0</th>\n",
       "      <td>10.284286</td>\n",
       "      <td>10.492566</td>\n",
       "      <td>23.323198</td>\n",
       "    </tr>\n",
       "    <tr>\n",
       "      <th>1</th>\n",
       "      <td>10.284286</td>\n",
       "      <td>10.492566</td>\n",
       "      <td>23.323198</td>\n",
       "    </tr>\n",
       "    <tr>\n",
       "      <th>2</th>\n",
       "      <td>10.284286</td>\n",
       "      <td>10.492566</td>\n",
       "      <td>23.323198</td>\n",
       "    </tr>\n",
       "    <tr>\n",
       "      <th>3</th>\n",
       "      <td>10.284286</td>\n",
       "      <td>10.492566</td>\n",
       "      <td>23.323198</td>\n",
       "    </tr>\n",
       "    <tr>\n",
       "      <th>4</th>\n",
       "      <td>10.284286</td>\n",
       "      <td>10.807720</td>\n",
       "      <td>23.323198</td>\n",
       "    </tr>\n",
       "    <tr>\n",
       "      <th>...</th>\n",
       "      <td>...</td>\n",
       "      <td>...</td>\n",
       "      <td>...</td>\n",
       "    </tr>\n",
       "    <tr>\n",
       "      <th>2510</th>\n",
       "      <td>121.115532</td>\n",
       "      <td>79.586937</td>\n",
       "      <td>128.365494</td>\n",
       "    </tr>\n",
       "    <tr>\n",
       "      <th>2511</th>\n",
       "      <td>121.115532</td>\n",
       "      <td>79.586937</td>\n",
       "      <td>128.365494</td>\n",
       "    </tr>\n",
       "    <tr>\n",
       "      <th>2512</th>\n",
       "      <td>121.115532</td>\n",
       "      <td>79.586937</td>\n",
       "      <td>128.365494</td>\n",
       "    </tr>\n",
       "    <tr>\n",
       "      <th>2513</th>\n",
       "      <td>121.115532</td>\n",
       "      <td>79.586937</td>\n",
       "      <td>128.365494</td>\n",
       "    </tr>\n",
       "    <tr>\n",
       "      <th>2514</th>\n",
       "      <td>121.115532</td>\n",
       "      <td>79.586937</td>\n",
       "      <td>128.365494</td>\n",
       "    </tr>\n",
       "  </tbody>\n",
       "</table>\n",
       "<p>2515 rows × 3 columns</p>\n",
       "</div>"
      ],
      "text/plain": [
       "             x_1        y_1         z_1\n",
       "0      10.284286  10.492566   23.323198\n",
       "1      10.284286  10.492566   23.323198\n",
       "2      10.284286  10.492566   23.323198\n",
       "3      10.284286  10.492566   23.323198\n",
       "4      10.284286  10.807720   23.323198\n",
       "...          ...        ...         ...\n",
       "2510  121.115532  79.586937  128.365494\n",
       "2511  121.115532  79.586937  128.365494\n",
       "2512  121.115532  79.586937  128.365494\n",
       "2513  121.115532  79.586937  128.365494\n",
       "2514  121.115532  79.586937  128.365494\n",
       "\n",
       "[2515 rows x 3 columns]"
      ]
     },
     "execution_count": 31,
     "metadata": {},
     "output_type": "execute_result"
    }
   ],
   "source": [
    "pd.DataFrame(validation_predictions) "
   ]
  }
 ],
 "metadata": {
  "kaggle": {
   "accelerator": "none",
   "dataSources": [
    {
     "databundleVersionId": 11553390,
     "sourceId": 87793,
     "sourceType": "competition"
    }
   ],
   "dockerImageVersionId": 30918,
   "isGpuEnabled": false,
   "isInternetEnabled": true,
   "language": "python",
   "sourceType": "notebook"
  },
  "kernelspec": {
   "display_name": "Python 3",
   "language": "python",
   "name": "python3"
  },
  "language_info": {
   "codemirror_mode": {
    "name": "ipython",
    "version": 3
   },
   "file_extension": ".py",
   "mimetype": "text/x-python",
   "name": "python",
   "nbconvert_exporter": "python",
   "pygments_lexer": "ipython3",
   "version": "3.10.12"
  },
  "papermill": {
   "default_parameters": {},
   "duration": 162.704501,
   "end_time": "2025-04-01T23:40:18.367787",
   "environment_variables": {},
   "exception": null,
   "input_path": "__notebook__.ipynb",
   "output_path": "__notebook__.ipynb",
   "parameters": {},
   "start_time": "2025-04-01T23:37:35.663286",
   "version": "2.6.0"
  }
 },
 "nbformat": 4,
 "nbformat_minor": 5
}
