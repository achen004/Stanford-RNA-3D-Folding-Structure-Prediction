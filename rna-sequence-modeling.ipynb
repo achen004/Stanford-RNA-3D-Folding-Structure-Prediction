{
 "cells": [
  {
   "cell_type": "code",
   "execution_count": 1,
   "id": "9ba56149",
   "metadata": {
    "_cell_guid": "b1076dfc-b9ad-4769-8c92-a6c4dae69d19",
    "_uuid": "8f2839f25d086af736a60e9eeb907d3b93b6e0e5",
    "execution": {
     "iopub.execute_input": "2025-03-28T22:51:10.470969Z",
     "iopub.status.busy": "2025-03-28T22:51:10.470671Z",
     "iopub.status.idle": "2025-03-28T22:51:16.330054Z",
     "shell.execute_reply": "2025-03-28T22:51:16.329357Z"
    },
    "papermill": {
     "duration": 5.86546,
     "end_time": "2025-03-28T22:51:16.331502",
     "exception": false,
     "start_time": "2025-03-28T22:51:10.466042",
     "status": "completed"
    },
    "tags": []
   },
   "outputs": [],
   "source": [
    "import numpy as np # linear algebra\n",
    "import pandas as pd # data processing, CSV file I/O (e.g. pd.read_csv)\n",
    "import os\n",
    "import re\n",
    "import torch\n",
    "import torch.nn as nn\n",
    "\n",
    "#approach: utilize for a model for each output coordinate\n",
    "import xgboost as xgb\n",
    "from catboost import CatBoostRegressor\n",
    "from sklearn.preprocessing import OneHotEncoder\n",
    "from sklearn.feature_extraction.text import TfidfVectorizer\n",
    "from sklearn.feature_extraction import FeatureHasher\n",
    "from sklearn.feature_selection import VarianceThreshold"
   ]
  },
  {
   "cell_type": "code",
   "execution_count": 2,
   "id": "346ecb59",
   "metadata": {
    "execution": {
     "iopub.execute_input": "2025-03-28T22:51:16.338836Z",
     "iopub.status.busy": "2025-03-28T22:51:16.338470Z",
     "iopub.status.idle": "2025-03-28T22:51:16.341930Z",
     "shell.execute_reply": "2025-03-28T22:51:16.341291Z"
    },
    "papermill": {
     "duration": 0.008094,
     "end_time": "2025-03-28T22:51:16.343082",
     "exception": false,
     "start_time": "2025-03-28T22:51:16.334988",
     "status": "completed"
    },
    "tags": []
   },
   "outputs": [],
   "source": [
    "training_path='/kaggle/input/stanford-rna-3d-folding/train_sequences.csv'\n",
    "validation_path='/kaggle/input/stanford-rna-3d-folding/validation_sequences.csv'\n",
    "testing_path='/kaggle/input/stanford-rna-3d-folding/test_sequences.csv'\n",
    "\n",
    "training_labels_path='/kaggle/input/stanford-rna-3d-folding/train_labels.csv'\n",
    "validation_labels_path='/kaggle/input/stanford-rna-3d-folding/validation_labels.csv'\n",
    "\n",
    "submission_path='/kaggle/input/stanford-rna-3d-folding/sample_submission.csv'"
   ]
  },
  {
   "cell_type": "code",
   "execution_count": 3,
   "id": "452713f5",
   "metadata": {
    "execution": {
     "iopub.execute_input": "2025-03-28T22:51:16.349526Z",
     "iopub.status.busy": "2025-03-28T22:51:16.349324Z",
     "iopub.status.idle": "2025-03-28T22:51:16.430219Z",
     "shell.execute_reply": "2025-03-28T22:51:16.429391Z"
    },
    "papermill": {
     "duration": 0.08543,
     "end_time": "2025-03-28T22:51:16.431455",
     "exception": false,
     "start_time": "2025-03-28T22:51:16.346025",
     "status": "completed"
    },
    "tags": []
   },
   "outputs": [
    {
     "data": {
      "text/html": [
       "<div>\n",
       "<style scoped>\n",
       "    .dataframe tbody tr th:only-of-type {\n",
       "        vertical-align: middle;\n",
       "    }\n",
       "\n",
       "    .dataframe tbody tr th {\n",
       "        vertical-align: top;\n",
       "    }\n",
       "\n",
       "    .dataframe thead th {\n",
       "        text-align: right;\n",
       "    }\n",
       "</style>\n",
       "<table border=\"1\" class=\"dataframe\">\n",
       "  <thead>\n",
       "    <tr style=\"text-align: right;\">\n",
       "      <th></th>\n",
       "      <th>target_id</th>\n",
       "      <th>sequence</th>\n",
       "      <th>temporal_cutoff</th>\n",
       "      <th>description</th>\n",
       "      <th>all_sequences</th>\n",
       "    </tr>\n",
       "  </thead>\n",
       "  <tbody>\n",
       "    <tr>\n",
       "      <th>691</th>\n",
       "      <td>7S3H_R</td>\n",
       "      <td>GGCUGCGUAUUUCUACUCUGUUGUUUUAGAGCUAGAAAUAGCAAGU...</td>\n",
       "      <td>2022-04-20</td>\n",
       "      <td>Cas9:sgRNA:DNA (S. pyogenes) with 0 RNA:DNA ba...</td>\n",
       "      <td>&gt;7S3H_1|Chain A[auth N]|Non-target DNA strand|...</td>\n",
       "    </tr>\n",
       "  </tbody>\n",
       "</table>\n",
       "</div>"
      ],
      "text/plain": [
       "    target_id                                           sequence  \\\n",
       "691    7S3H_R  GGCUGCGUAUUUCUACUCUGUUGUUUUAGAGCUAGAAAUAGCAAGU...   \n",
       "\n",
       "    temporal_cutoff                                        description  \\\n",
       "691      2022-04-20  Cas9:sgRNA:DNA (S. pyogenes) with 0 RNA:DNA ba...   \n",
       "\n",
       "                                         all_sequences  \n",
       "691  >7S3H_1|Chain A[auth N]|Non-target DNA strand|...  "
      ]
     },
     "execution_count": 3,
     "metadata": {},
     "output_type": "execute_result"
    }
   ],
   "source": [
    "train_df=pd.read_csv(training_path)\n",
    "update_train_df=train_df[train_df['temporal_cutoff']<\"2022-05-27\"]\n",
    "update_train_df.tail(1)"
   ]
  },
  {
   "cell_type": "code",
   "execution_count": 4,
   "id": "679f19f4",
   "metadata": {
    "execution": {
     "iopub.execute_input": "2025-03-28T22:51:16.438526Z",
     "iopub.status.busy": "2025-03-28T22:51:16.438323Z",
     "iopub.status.idle": "2025-03-28T22:51:16.673066Z",
     "shell.execute_reply": "2025-03-28T22:51:16.672253Z"
    },
    "papermill": {
     "duration": 0.239615,
     "end_time": "2025-03-28T22:51:16.674387",
     "exception": false,
     "start_time": "2025-03-28T22:51:16.434772",
     "status": "completed"
    },
    "tags": []
   },
   "outputs": [
    {
     "data": {
      "text/html": [
       "<div>\n",
       "<style scoped>\n",
       "    .dataframe tbody tr th:only-of-type {\n",
       "        vertical-align: middle;\n",
       "    }\n",
       "\n",
       "    .dataframe tbody tr th {\n",
       "        vertical-align: top;\n",
       "    }\n",
       "\n",
       "    .dataframe thead th {\n",
       "        text-align: right;\n",
       "    }\n",
       "</style>\n",
       "<table border=\"1\" class=\"dataframe\">\n",
       "  <thead>\n",
       "    <tr style=\"text-align: right;\">\n",
       "      <th></th>\n",
       "      <th>ID</th>\n",
       "      <th>resname</th>\n",
       "      <th>resid</th>\n",
       "      <th>x_1</th>\n",
       "      <th>y_1</th>\n",
       "      <th>z_1</th>\n",
       "    </tr>\n",
       "  </thead>\n",
       "  <tbody>\n",
       "    <tr>\n",
       "      <th>0</th>\n",
       "      <td>1SCL_A_1</td>\n",
       "      <td>G</td>\n",
       "      <td>1</td>\n",
       "      <td>13.76</td>\n",
       "      <td>-25.974001</td>\n",
       "      <td>0.102</td>\n",
       "    </tr>\n",
       "  </tbody>\n",
       "</table>\n",
       "</div>"
      ],
      "text/plain": [
       "         ID resname  resid    x_1        y_1    z_1\n",
       "0  1SCL_A_1       G      1  13.76 -25.974001  0.102"
      ]
     },
     "execution_count": 4,
     "metadata": {},
     "output_type": "execute_result"
    }
   ],
   "source": [
    "train_labels_df=pd.read_csv(training_labels_path)\n",
    "train_labels_df.head(1)"
   ]
  },
  {
   "cell_type": "markdown",
   "id": "5bcb829b",
   "metadata": {
    "papermill": {
     "duration": 0.003034,
     "end_time": "2025-03-28T22:51:16.681272",
     "exception": false,
     "start_time": "2025-03-28T22:51:16.678238",
     "status": "completed"
    },
    "tags": []
   },
   "source": [
    "**Sequence structure prediction preprocessing**"
   ]
  },
  {
   "cell_type": "code",
   "execution_count": 5,
   "id": "01c3b07b",
   "metadata": {
    "execution": {
     "iopub.execute_input": "2025-03-28T22:51:16.688392Z",
     "iopub.status.busy": "2025-03-28T22:51:16.688164Z",
     "iopub.status.idle": "2025-03-28T22:51:17.360975Z",
     "shell.execute_reply": "2025-03-28T22:51:17.359987Z"
    },
    "papermill": {
     "duration": 0.67822,
     "end_time": "2025-03-28T22:51:17.362657",
     "exception": false,
     "start_time": "2025-03-28T22:51:16.684437",
     "status": "completed"
    },
    "tags": []
   },
   "outputs": [
    {
     "data": {
      "text/html": [
       "<div>\n",
       "<style scoped>\n",
       "    .dataframe tbody tr th:only-of-type {\n",
       "        vertical-align: middle;\n",
       "    }\n",
       "\n",
       "    .dataframe tbody tr th {\n",
       "        vertical-align: top;\n",
       "    }\n",
       "\n",
       "    .dataframe thead th {\n",
       "        text-align: right;\n",
       "    }\n",
       "</style>\n",
       "<table border=\"1\" class=\"dataframe\">\n",
       "  <thead>\n",
       "    <tr style=\"text-align: right;\">\n",
       "      <th></th>\n",
       "      <th>target_id</th>\n",
       "      <th>sequence</th>\n",
       "      <th>temporal_cutoff</th>\n",
       "      <th>description</th>\n",
       "      <th>all_sequences</th>\n",
       "      <th>ID</th>\n",
       "      <th>resname</th>\n",
       "      <th>resid</th>\n",
       "      <th>x_1</th>\n",
       "      <th>y_1</th>\n",
       "      <th>z_1</th>\n",
       "      <th>pdb_monomer</th>\n",
       "    </tr>\n",
       "  </thead>\n",
       "  <tbody>\n",
       "    <tr>\n",
       "      <th>0</th>\n",
       "      <td>1SCL_A</td>\n",
       "      <td>GGGUGCUCAGUACGAGAGGAACCGCACCC</td>\n",
       "      <td>1995-01-26</td>\n",
       "      <td>THE SARCIN-RICIN LOOP, A MODULAR RNA</td>\n",
       "      <td>&gt;1SCL_1|Chain A|RNA SARCIN-RICIN LOOP|Rattus n...</td>\n",
       "      <td>1SCL_A_1</td>\n",
       "      <td>G</td>\n",
       "      <td>1</td>\n",
       "      <td>13.76</td>\n",
       "      <td>-25.974001</td>\n",
       "      <td>0.102</td>\n",
       "      <td>1</td>\n",
       "    </tr>\n",
       "  </tbody>\n",
       "</table>\n",
       "</div>"
      ],
      "text/plain": [
       "  target_id                       sequence temporal_cutoff  \\\n",
       "0    1SCL_A  GGGUGCUCAGUACGAGAGGAACCGCACCC      1995-01-26   \n",
       "\n",
       "                            description  \\\n",
       "0  THE SARCIN-RICIN LOOP, A MODULAR RNA   \n",
       "\n",
       "                                       all_sequences        ID resname  resid  \\\n",
       "0  >1SCL_1|Chain A|RNA SARCIN-RICIN LOOP|Rattus n...  1SCL_A_1       G      1   \n",
       "\n",
       "     x_1        y_1    z_1 pdb_monomer  \n",
       "0  13.76 -25.974001  0.102           1  "
      ]
     },
     "execution_count": 5,
     "metadata": {},
     "output_type": "execute_result"
    }
   ],
   "source": [
    "#Extract target label: Protein Data Bank id, Monomer chain id\n",
    "train_labels_df['target_id']=train_labels_df['ID'].str.rsplit('_',n=1).str[0]\n",
    "train_labels_df['pdb_monomer']=train_labels_df['ID'].str.rsplit('_',n=1).str[1]\n",
    "\n",
    "#update submission df\n",
    "submission_df=pd.read_csv(submission_path)\n",
    "submission_df['target_id']=submission_df['ID'].str.rsplit('_',n=1).str[0]\n",
    "submission_df['pdb_monomer']=submission_df['ID'].str.rsplit('_',n=1).str[1]\n",
    "\n",
    "train_full_df=update_train_df.merge(train_labels_df, how=\"left\", on=\"target_id\")\n",
    "\n",
    "#train_labels_df.head(1)\n",
    "train_full_df.head(1)\n",
    "#submission_df.head(1)"
   ]
  },
  {
   "cell_type": "code",
   "execution_count": 6,
   "id": "9188350b",
   "metadata": {
    "execution": {
     "iopub.execute_input": "2025-03-28T22:51:17.370626Z",
     "iopub.status.busy": "2025-03-28T22:51:17.370331Z",
     "iopub.status.idle": "2025-03-28T22:51:17.434495Z",
     "shell.execute_reply": "2025-03-28T22:51:17.433820Z"
    },
    "papermill": {
     "duration": 0.069542,
     "end_time": "2025-03-28T22:51:17.435867",
     "exception": false,
     "start_time": "2025-03-28T22:51:17.366325",
     "status": "completed"
    },
    "tags": []
   },
   "outputs": [
    {
     "data": {
      "text/plain": [
       "target_id          0\n",
       "sequence           0\n",
       "temporal_cutoff    0\n",
       "description        0\n",
       "all_sequences      0\n",
       "ID                 0\n",
       "resname            0\n",
       "resid              0\n",
       "x_1                0\n",
       "y_1                0\n",
       "z_1                0\n",
       "pdb_monomer        0\n",
       "dtype: int64"
      ]
     },
     "execution_count": 6,
     "metadata": {},
     "output_type": "execute_result"
    }
   ],
   "source": [
    "#fill in nan description in all_sequences with \"missing\"\n",
    "train_full_df['all_sequences']=train_full_df['all_sequences'].astype(str).fillna(\"missing\")\n",
    "\n",
    "#fill in missing coordinates with mean values\n",
    "training_coordinates=['x_1','y_1','z_1']\n",
    "for t in training_coordinates:\n",
    "    t_mean=train_full_df[t].mean()\n",
    "    train_full_df[t]=train_full_df[t].fillna(t_mean)\n",
    "\n",
    "train_full_df.isna().sum()"
   ]
  },
  {
   "cell_type": "code",
   "execution_count": 7,
   "id": "c9fb8202",
   "metadata": {
    "execution": {
     "iopub.execute_input": "2025-03-28T22:51:17.443715Z",
     "iopub.status.busy": "2025-03-28T22:51:17.443457Z",
     "iopub.status.idle": "2025-03-28T22:51:17.447169Z",
     "shell.execute_reply": "2025-03-28T22:51:17.446576Z"
    },
    "papermill": {
     "duration": 0.008822,
     "end_time": "2025-03-28T22:51:17.448376",
     "exception": false,
     "start_time": "2025-03-28T22:51:17.439554",
     "status": "completed"
    },
    "tags": []
   },
   "outputs": [],
   "source": [
    "def df_label_extract_merge(df_path, label_path):\n",
    "    df=pd.read_csv(df_path)\n",
    "    ldf=pd.read_csv(label_path)\n",
    "    ldf['target_id']=ldf['ID'].str.rsplit('_',n=1).str[0]\n",
    "    ldf['pdb_monomer']=ldf['ID'].str.rsplit('_',n=1).str[1]\n",
    "    return df.merge(ldf, how='left', on='target_id')"
   ]
  },
  {
   "cell_type": "code",
   "execution_count": 8,
   "id": "9fc6b3ff",
   "metadata": {
    "execution": {
     "iopub.execute_input": "2025-03-28T22:51:17.456012Z",
     "iopub.status.busy": "2025-03-28T22:51:17.455789Z",
     "iopub.status.idle": "2025-03-28T22:51:17.541629Z",
     "shell.execute_reply": "2025-03-28T22:51:17.540810Z"
    },
    "papermill": {
     "duration": 0.091016,
     "end_time": "2025-03-28T22:51:17.542868",
     "exception": false,
     "start_time": "2025-03-28T22:51:17.451852",
     "status": "completed"
    },
    "tags": []
   },
   "outputs": [
    {
     "data": {
      "text/html": [
       "<div>\n",
       "<style scoped>\n",
       "    .dataframe tbody tr th:only-of-type {\n",
       "        vertical-align: middle;\n",
       "    }\n",
       "\n",
       "    .dataframe tbody tr th {\n",
       "        vertical-align: top;\n",
       "    }\n",
       "\n",
       "    .dataframe thead th {\n",
       "        text-align: right;\n",
       "    }\n",
       "</style>\n",
       "<table border=\"1\" class=\"dataframe\">\n",
       "  <thead>\n",
       "    <tr style=\"text-align: right;\">\n",
       "      <th></th>\n",
       "      <th>target_id</th>\n",
       "      <th>sequence</th>\n",
       "      <th>temporal_cutoff</th>\n",
       "      <th>description</th>\n",
       "      <th>all_sequences</th>\n",
       "      <th>ID</th>\n",
       "      <th>resname</th>\n",
       "      <th>resid</th>\n",
       "      <th>x_1</th>\n",
       "      <th>y_1</th>\n",
       "      <th>...</th>\n",
       "      <th>x_38</th>\n",
       "      <th>y_38</th>\n",
       "      <th>z_38</th>\n",
       "      <th>x_39</th>\n",
       "      <th>y_39</th>\n",
       "      <th>z_39</th>\n",
       "      <th>x_40</th>\n",
       "      <th>y_40</th>\n",
       "      <th>z_40</th>\n",
       "      <th>pdb_monomer</th>\n",
       "    </tr>\n",
       "  </thead>\n",
       "  <tbody>\n",
       "    <tr>\n",
       "      <th>0</th>\n",
       "      <td>R1107</td>\n",
       "      <td>GGGGGCCACAGCAGAAGCGUUCACGUCGCAGCCCCUGUCAGCCAUU...</td>\n",
       "      <td>2022-05-28</td>\n",
       "      <td>CPEB3 ribozyme\\nHuman\\nhuman CPEB3 HDV-like ri...</td>\n",
       "      <td>&gt;7QR4_1|Chain A|U1 small nuclear ribonucleopro...</td>\n",
       "      <td>R1107_1</td>\n",
       "      <td>G</td>\n",
       "      <td>1</td>\n",
       "      <td>-5.499</td>\n",
       "      <td>8.52</td>\n",
       "      <td>...</td>\n",
       "      <td>-1.000000e+18</td>\n",
       "      <td>-1.000000e+18</td>\n",
       "      <td>-1.000000e+18</td>\n",
       "      <td>-1.000000e+18</td>\n",
       "      <td>-1.000000e+18</td>\n",
       "      <td>-1.000000e+18</td>\n",
       "      <td>-1.000000e+18</td>\n",
       "      <td>-1.000000e+18</td>\n",
       "      <td>-1.000000e+18</td>\n",
       "      <td>1</td>\n",
       "    </tr>\n",
       "  </tbody>\n",
       "</table>\n",
       "<p>1 rows × 129 columns</p>\n",
       "</div>"
      ],
      "text/plain": [
       "  target_id                                           sequence  \\\n",
       "0     R1107  GGGGGCCACAGCAGAAGCGUUCACGUCGCAGCCCCUGUCAGCCAUU...   \n",
       "\n",
       "  temporal_cutoff                                        description  \\\n",
       "0      2022-05-28  CPEB3 ribozyme\\nHuman\\nhuman CPEB3 HDV-like ri...   \n",
       "\n",
       "                                       all_sequences       ID resname  resid  \\\n",
       "0  >7QR4_1|Chain A|U1 small nuclear ribonucleopro...  R1107_1       G      1   \n",
       "\n",
       "     x_1   y_1  ...          x_38          y_38          z_38          x_39  \\\n",
       "0 -5.499  8.52  ... -1.000000e+18 -1.000000e+18 -1.000000e+18 -1.000000e+18   \n",
       "\n",
       "           y_39          z_39          x_40          y_40          z_40  \\\n",
       "0 -1.000000e+18 -1.000000e+18 -1.000000e+18 -1.000000e+18 -1.000000e+18   \n",
       "\n",
       "   pdb_monomer  \n",
       "0            1  \n",
       "\n",
       "[1 rows x 129 columns]"
      ]
     },
     "execution_count": 8,
     "metadata": {},
     "output_type": "execute_result"
    }
   ],
   "source": [
    "#validation has 40 structural coordinate output triplets, whereas training has only 1 triplet output\n",
    "validation_df=df_label_extract_merge(df_path=validation_path, label_path=validation_labels_path)\n",
    "validation_df.head(1)"
   ]
  },
  {
   "cell_type": "code",
   "execution_count": 9,
   "id": "8548866c",
   "metadata": {
    "execution": {
     "iopub.execute_input": "2025-03-28T22:51:17.551110Z",
     "iopub.status.busy": "2025-03-28T22:51:17.550872Z",
     "iopub.status.idle": "2025-03-28T22:51:17.561717Z",
     "shell.execute_reply": "2025-03-28T22:51:17.560839Z"
    },
    "papermill": {
     "duration": 0.016483,
     "end_time": "2025-03-28T22:51:17.563000",
     "exception": false,
     "start_time": "2025-03-28T22:51:17.546517",
     "status": "completed"
    },
    "tags": []
   },
   "outputs": [],
   "source": [
    "#convert submission csv as same format as original training csv\n",
    "test_df=pd.read_csv(testing_path)\n",
    "test_complete_df=test_df.merge(submission_df, how=\"left\", on=\"target_id\")"
   ]
  },
  {
   "cell_type": "code",
   "execution_count": 10,
   "id": "1fae698b",
   "metadata": {
    "execution": {
     "iopub.execute_input": "2025-03-28T22:51:17.570974Z",
     "iopub.status.busy": "2025-03-28T22:51:17.570743Z",
     "iopub.status.idle": "2025-03-28T22:51:17.575304Z",
     "shell.execute_reply": "2025-03-28T22:51:17.574414Z"
    },
    "papermill": {
     "duration": 0.009865,
     "end_time": "2025-03-28T22:51:17.576522",
     "exception": false,
     "start_time": "2025-03-28T22:51:17.566657",
     "status": "completed"
    },
    "tags": []
   },
   "outputs": [
    {
     "name": "stdout",
     "output_type": "stream",
     "text": [
      ">1ZC8_1|Chain A|TLD 16S ribosomal RNA|Thermus thermophilus (274)\n",
      "GGGGCUGAUUCUGGAUUCGACGGGAUAUUUCGGACGCGGGUUCAACUCCCGCCAGCUCC\n",
      ">1ZC8_10|Chain J[auth K]|SsrA-binding protein|Thermus thermophilus (274)\n",
      "GKSDKIIPIAENKEAKAKYDILETYEAGIVLKGSEVKSLREKGTVSFKDSFVRIENGEAWLYNLYIAPYKHATIENHDPLRKRKLLLHKREIMRLYGKVQEKGYTIIPLKLYWKNNKVKVLIALAKGKKL\n",
      ">1ZC8_11|Chain K[auth Y]|Elongation factor Tu|Thermus thermophilus (274)\n",
      "AKGEFIRTKPHVNVGTIGHVDHGKTTLTAALTYVAAAENPNVEVKDYGDIDKAPEERARGITINTAHVEYETAKRHYSHVDCPGHADYIKNMITGAAQMDGAILVVSAADGPMPQTREHILLARQVGVPYIVVFMNKVDMVDDPELLDLVEMEVRDLLNQYEFPGDEVPVIRGSALLALEEMHKNPKTKRGENEWVDKIWELLDAIDEYIPTPVRDVDKPFLMPVEDVFTITGRGTVATGRIERGKVKVGDEVEIVGLAPETRKTVVTGVEMHRKTLQEGIAGDNVGLLLRGVSREEVERGQVLAKPGSITPHTKFEASVYILKKEEGGRHTGFFTGYRPQFYFRTTDVTGVVRLPQGVEMVMPGDNVTFTVELIKPVALEEGLRFAIREGGRTVGAGVVTKILE\n",
      ">1ZC8_2|Chain B|H2 16S rRNA|Thermus thermophilus (274)\n",
      "UUGCGAAACAUGUAGG\n",
      ">1ZC8_3|Chain C|H2b d mRNA|Thermus thermophilus (274)\n",
      "CCCAAGGUGCAUGCGCAUGUAGUACCGAGGA\n",
      ">1ZC8_4|Chain D[auth G]|protein kinase 4 mRNA|Thermus thermophilus (274)\n",
      "CGAGGGGCGGUUGGCCUCGUAAAAAGCCGC\n",
      ">1ZC8_5|Chain E[auth F]|H5 16S ribosomal RNA|Thermus thermophilus (274)\n",
      "CUUUAGCAGCUUAAUAACCUGCUUAGAGC\n",
      ">1ZC8_6|Chain F[auth H]|protein kinase 2 mRNA|Thermus thermophilus (274)\n",
      "CCUCUCUCCCUAGCCUCCGCUCUUAGGACGGGGAUCAAGAGAGGUCAAACCCAAAAGAG\n",
      ">1ZC8_7|Chain G[auth I]|protein kinase 3|Thermus thermophilus (274)\n",
      "AUCGCGUGGAAGCCCUGCCUGGGGUUGAAGCGUUAAAACUUAAUCAGGC\n",
      ">1ZC8_8|Chain H[auth J]|protein kinase 4 mRNA|Thermus thermophilus (274)\n",
      "GUUUGUUAGUGGCGUGUCCGUCCGCAGCUGGCAAGCGAAUGUAAAGACUGAC\n",
      ">1ZC8_9|Chain I[auth Z]|H44 16S ribosomal RNA|Thermus thermophilus (274)\n",
      "GCCCGUCACGCCAUGGGAGCGGGCUCUACCCGAAGUCGCCGGGAGCCUACGGGCAGGCGCCGAGGGUAGGGCCCGUGACUGGGGCGAAGUC\n",
      "\n"
     ]
    }
   ],
   "source": [
    "print(train_full_df.loc[6500,'all_sequences'])"
   ]
  },
  {
   "cell_type": "markdown",
   "id": "b51a9b70",
   "metadata": {
    "papermill": {
     "duration": 0.003385,
     "end_time": "2025-03-28T22:51:17.583621",
     "exception": false,
     "start_time": "2025-03-28T22:51:17.580236",
     "status": "completed"
    },
    "tags": []
   },
   "source": [
    "**Feature Engineering**\n",
    "- Add 3D structural information in the PDB database\n",
    "- data augmentation & transfer learning: SPOT-RNA, pretrained on bpRNA database (stems, hairpin loops and pseudoknots)\n",
    "- sequences converted to 2D images: MXFold2 utilizes UFold process to then input into a CNN and efficiently generate results\n",
    "- ARES atom-level information instead of nucleotides (small training set used)\n",
    "- EternalFold: uses chemical mapping, and riboswitch–ligand binding affinity data\n"
   ]
  },
  {
   "cell_type": "code",
   "execution_count": 11,
   "id": "3d71f913",
   "metadata": {
    "execution": {
     "iopub.execute_input": "2025-03-28T22:51:17.591406Z",
     "iopub.status.busy": "2025-03-28T22:51:17.591185Z",
     "iopub.status.idle": "2025-03-28T22:51:17.678464Z",
     "shell.execute_reply": "2025-03-28T22:51:17.677553Z"
    },
    "papermill": {
     "duration": 0.092466,
     "end_time": "2025-03-28T22:51:17.679694",
     "exception": false,
     "start_time": "2025-03-28T22:51:17.587228",
     "status": "completed"
    },
    "tags": []
   },
   "outputs": [
    {
     "name": "stdout",
     "output_type": "stream",
     "text": [
      "True\n"
     ]
    },
    {
     "data": {
      "text/plain": [
       "4298"
      ]
     },
     "execution_count": 11,
     "metadata": {},
     "output_type": "execute_result"
    }
   ],
   "source": [
    "print(torch.cuda.is_available())\n",
    "len(train_full_df['pdb_monomer'].unique())"
   ]
  },
  {
   "cell_type": "code",
   "execution_count": 12,
   "id": "9075085d",
   "metadata": {
    "execution": {
     "iopub.execute_input": "2025-03-28T22:51:17.688476Z",
     "iopub.status.busy": "2025-03-28T22:51:17.688205Z",
     "iopub.status.idle": "2025-03-28T22:52:04.410536Z",
     "shell.execute_reply": "2025-03-28T22:52:04.409674Z"
    },
    "papermill": {
     "duration": 46.732029,
     "end_time": "2025-03-28T22:52:04.415697",
     "exception": false,
     "start_time": "2025-03-28T22:51:17.683668",
     "status": "completed"
    },
    "tags": []
   },
   "outputs": [
    {
     "name": "stdout",
     "output_type": "stream",
     "text": [
      "unique ids: 692\n",
      "unique resname: 6\n",
      "['G' 'U' 'C' 'A' '-' 'X']\n",
      "total datapoints: 113616\n"
     ]
    },
    {
     "data": {
      "text/html": [
       "<div>\n",
       "<style scoped>\n",
       "    .dataframe tbody tr th:only-of-type {\n",
       "        vertical-align: middle;\n",
       "    }\n",
       "\n",
       "    .dataframe tbody tr th {\n",
       "        vertical-align: top;\n",
       "    }\n",
       "\n",
       "    .dataframe thead th {\n",
       "        text-align: right;\n",
       "    }\n",
       "</style>\n",
       "<table border=\"1\" class=\"dataframe\">\n",
       "  <thead>\n",
       "    <tr style=\"text-align: right;\">\n",
       "      <th></th>\n",
       "      <th>01</th>\n",
       "      <th>02</th>\n",
       "      <th>03</th>\n",
       "      <th>04</th>\n",
       "      <th>05</th>\n",
       "      <th>10</th>\n",
       "      <th>100440</th>\n",
       "      <th>10045</th>\n",
       "      <th>100673</th>\n",
       "      <th>10090</th>\n",
       "      <th>...</th>\n",
       "      <th>zb</th>\n",
       "      <th>zc</th>\n",
       "      <th>zd</th>\n",
       "      <th>ze</th>\n",
       "      <th>zf</th>\n",
       "      <th>zg</th>\n",
       "      <th>zh</th>\n",
       "      <th>zi</th>\n",
       "      <th>zika</th>\n",
       "      <th>zz</th>\n",
       "    </tr>\n",
       "  </thead>\n",
       "  <tbody>\n",
       "    <tr>\n",
       "      <th>0</th>\n",
       "      <td>0.0</td>\n",
       "      <td>0.0</td>\n",
       "      <td>0.0</td>\n",
       "      <td>0.0</td>\n",
       "      <td>0.0</td>\n",
       "      <td>0.0</td>\n",
       "      <td>0.0</td>\n",
       "      <td>0.0</td>\n",
       "      <td>0.0</td>\n",
       "      <td>0.0</td>\n",
       "      <td>...</td>\n",
       "      <td>0.0</td>\n",
       "      <td>0.0</td>\n",
       "      <td>0.0</td>\n",
       "      <td>0.0</td>\n",
       "      <td>0.0</td>\n",
       "      <td>0.0</td>\n",
       "      <td>0.0</td>\n",
       "      <td>0.0</td>\n",
       "      <td>0.0</td>\n",
       "      <td>0.0</td>\n",
       "    </tr>\n",
       "    <tr>\n",
       "      <th>1</th>\n",
       "      <td>0.0</td>\n",
       "      <td>0.0</td>\n",
       "      <td>0.0</td>\n",
       "      <td>0.0</td>\n",
       "      <td>0.0</td>\n",
       "      <td>0.0</td>\n",
       "      <td>0.0</td>\n",
       "      <td>0.0</td>\n",
       "      <td>0.0</td>\n",
       "      <td>0.0</td>\n",
       "      <td>...</td>\n",
       "      <td>0.0</td>\n",
       "      <td>0.0</td>\n",
       "      <td>0.0</td>\n",
       "      <td>0.0</td>\n",
       "      <td>0.0</td>\n",
       "      <td>0.0</td>\n",
       "      <td>0.0</td>\n",
       "      <td>0.0</td>\n",
       "      <td>0.0</td>\n",
       "      <td>0.0</td>\n",
       "    </tr>\n",
       "    <tr>\n",
       "      <th>2</th>\n",
       "      <td>0.0</td>\n",
       "      <td>0.0</td>\n",
       "      <td>0.0</td>\n",
       "      <td>0.0</td>\n",
       "      <td>0.0</td>\n",
       "      <td>0.0</td>\n",
       "      <td>0.0</td>\n",
       "      <td>0.0</td>\n",
       "      <td>0.0</td>\n",
       "      <td>0.0</td>\n",
       "      <td>...</td>\n",
       "      <td>0.0</td>\n",
       "      <td>0.0</td>\n",
       "      <td>0.0</td>\n",
       "      <td>0.0</td>\n",
       "      <td>0.0</td>\n",
       "      <td>0.0</td>\n",
       "      <td>0.0</td>\n",
       "      <td>0.0</td>\n",
       "      <td>0.0</td>\n",
       "      <td>0.0</td>\n",
       "    </tr>\n",
       "  </tbody>\n",
       "</table>\n",
       "<p>3 rows × 5000 columns</p>\n",
       "</div>"
      ],
      "text/plain": [
       "    01   02   03   04   05   10  100440  10045  100673  10090  ...   zb   zc  \\\n",
       "0  0.0  0.0  0.0  0.0  0.0  0.0     0.0    0.0     0.0    0.0  ...  0.0  0.0   \n",
       "1  0.0  0.0  0.0  0.0  0.0  0.0     0.0    0.0     0.0    0.0  ...  0.0  0.0   \n",
       "2  0.0  0.0  0.0  0.0  0.0  0.0     0.0    0.0     0.0    0.0  ...  0.0  0.0   \n",
       "\n",
       "    zd   ze   zf   zg   zh   zi  zika   zz  \n",
       "0  0.0  0.0  0.0  0.0  0.0  0.0   0.0  0.0  \n",
       "1  0.0  0.0  0.0  0.0  0.0  0.0   0.0  0.0  \n",
       "2  0.0  0.0  0.0  0.0  0.0  0.0   0.0  0.0  \n",
       "\n",
       "[3 rows x 5000 columns]"
      ]
     },
     "execution_count": 12,
     "metadata": {},
     "output_type": "execute_result"
    }
   ],
   "source": [
    "#simple sequence length feature\n",
    "train_full_df['seq_len']=train_full_df['sequence'].str.len()\n",
    "test_complete_df['seq_len']=test_complete_df['sequence'].str.len()\n",
    "\n",
    "#categorical columns\n",
    "cat_cols=['target_id', 'resname']\n",
    "\n",
    "#dataset inspection\n",
    "print('unique ids:', len(train_full_df['target_id'].unique()))\n",
    "print('unique resname:', len(train_full_df['resname'].unique()))\n",
    "print(train_full_df['resname'].unique())\n",
    "print('total datapoints:', len(train_full_df))\n",
    "\n",
    "#Encode and create an embedding features from the target ids\n",
    "encoded_ids, id_maps= pd.factorize(train_full_df['target_id'])\n",
    "id_tensor=torch.tensor(encoded_ids, dtype=torch.long)\n",
    "embed_size=int(len(train_full_df['target_id'].unique()))\n",
    "embedding_dim=min(50, np.power(len(train_full_df['target_id'].unique()),0.25))\n",
    "#print(np.ceil(embedding_dim))\n",
    "embed_dim=int(np.ceil(embedding_dim))\n",
    "embed_layer=nn.Embedding(num_embeddings=embed_size, embedding_dim=embed_dim)\n",
    "embed_ids=embed_layer(id_tensor).detach().cpu().numpy()\n",
    "embed_id_df=pd.DataFrame(embed_ids, columns=[f'embedim_{i}' for i in range(embed_dim)])\n",
    "\n",
    "#TF-IDF transform description and all-sequences columns into word embedding features\n",
    "tfidf_vec=TfidfVectorizer(min_df=5, max_df=0.9, max_features=5000) \n",
    "\n",
    "train_full_df['combined_descrip_allseqs']=train_full_df['description']+' '+train_full_df['all_sequences']\n",
    "\n",
    "tfidf_all=tfidf_vec.fit_transform(train_full_df['combined_descrip_allseqs'])\n",
    "\n",
    "#after inspecting some allsequence text some have 'xxxxxxxxxx'\n",
    "# ft_names=list(tfidf_vec.get_feature_names_out())\n",
    "\n",
    "# pattern = f\"({re.escape('x')})\\\\1*\"\n",
    "# filter_words=[f for f in ft_names if not f.isnumeric() and not re.fullmatch(pattern, f)]\n",
    "\n",
    "# print(len(filter_words))\n",
    "\n",
    "tfidf_all_df=pd.DataFrame(tfidf_all.toarray(), columns=tfidf_vec.get_feature_names_out())\n",
    "\n",
    "tfidf_all_df.head(3)"
   ]
  },
  {
   "cell_type": "code",
   "execution_count": 13,
   "id": "6f3771ae",
   "metadata": {
    "execution": {
     "iopub.execute_input": "2025-03-28T22:52:04.424462Z",
     "iopub.status.busy": "2025-03-28T22:52:04.424231Z",
     "iopub.status.idle": "2025-03-28T22:52:11.548406Z",
     "shell.execute_reply": "2025-03-28T22:52:11.547495Z"
    },
    "papermill": {
     "duration": 7.129957,
     "end_time": "2025-03-28T22:52:11.549836",
     "exception": false,
     "start_time": "2025-03-28T22:52:04.419879",
     "status": "completed"
    },
    "tags": []
   },
   "outputs": [
    {
     "data": {
      "text/html": [
       "<div>\n",
       "<style scoped>\n",
       "    .dataframe tbody tr th:only-of-type {\n",
       "        vertical-align: middle;\n",
       "    }\n",
       "\n",
       "    .dataframe tbody tr th {\n",
       "        vertical-align: top;\n",
       "    }\n",
       "\n",
       "    .dataframe thead th {\n",
       "        text-align: right;\n",
       "    }\n",
       "</style>\n",
       "<table border=\"1\" class=\"dataframe\">\n",
       "  <thead>\n",
       "    <tr style=\"text-align: right;\">\n",
       "      <th></th>\n",
       "      <th>2190</th>\n",
       "      <th>224308</th>\n",
       "      <th>4565</th>\n",
       "      <th>562</th>\n",
       "      <th>7227</th>\n",
       "      <th>9606</th>\n",
       "      <th>9986</th>\n",
       "      <th>aestivum</th>\n",
       "      <th>auth</th>\n",
       "      <th>bacillus</th>\n",
       "      <th>...</th>\n",
       "      <th>homo</th>\n",
       "      <th>jannaschii</th>\n",
       "      <th>melanogaster</th>\n",
       "      <th>methanococcus</th>\n",
       "      <th>oryctolagus</th>\n",
       "      <th>sapiens</th>\n",
       "      <th>subtilis</th>\n",
       "      <th>thermophilus</th>\n",
       "      <th>thermus</th>\n",
       "      <th>triticum</th>\n",
       "    </tr>\n",
       "  </thead>\n",
       "  <tbody>\n",
       "    <tr>\n",
       "      <th>0</th>\n",
       "      <td>0.0</td>\n",
       "      <td>0.0</td>\n",
       "      <td>0.0</td>\n",
       "      <td>0.0</td>\n",
       "      <td>0.0</td>\n",
       "      <td>0.0</td>\n",
       "      <td>0.0</td>\n",
       "      <td>0.0</td>\n",
       "      <td>0.0</td>\n",
       "      <td>0.0</td>\n",
       "      <td>...</td>\n",
       "      <td>0.0</td>\n",
       "      <td>0.0</td>\n",
       "      <td>0.0</td>\n",
       "      <td>0.0</td>\n",
       "      <td>0.0</td>\n",
       "      <td>0.0</td>\n",
       "      <td>0.0</td>\n",
       "      <td>0.0</td>\n",
       "      <td>0.0</td>\n",
       "      <td>0.0</td>\n",
       "    </tr>\n",
       "    <tr>\n",
       "      <th>1</th>\n",
       "      <td>0.0</td>\n",
       "      <td>0.0</td>\n",
       "      <td>0.0</td>\n",
       "      <td>0.0</td>\n",
       "      <td>0.0</td>\n",
       "      <td>0.0</td>\n",
       "      <td>0.0</td>\n",
       "      <td>0.0</td>\n",
       "      <td>0.0</td>\n",
       "      <td>0.0</td>\n",
       "      <td>...</td>\n",
       "      <td>0.0</td>\n",
       "      <td>0.0</td>\n",
       "      <td>0.0</td>\n",
       "      <td>0.0</td>\n",
       "      <td>0.0</td>\n",
       "      <td>0.0</td>\n",
       "      <td>0.0</td>\n",
       "      <td>0.0</td>\n",
       "      <td>0.0</td>\n",
       "      <td>0.0</td>\n",
       "    </tr>\n",
       "    <tr>\n",
       "      <th>2</th>\n",
       "      <td>0.0</td>\n",
       "      <td>0.0</td>\n",
       "      <td>0.0</td>\n",
       "      <td>0.0</td>\n",
       "      <td>0.0</td>\n",
       "      <td>0.0</td>\n",
       "      <td>0.0</td>\n",
       "      <td>0.0</td>\n",
       "      <td>0.0</td>\n",
       "      <td>0.0</td>\n",
       "      <td>...</td>\n",
       "      <td>0.0</td>\n",
       "      <td>0.0</td>\n",
       "      <td>0.0</td>\n",
       "      <td>0.0</td>\n",
       "      <td>0.0</td>\n",
       "      <td>0.0</td>\n",
       "      <td>0.0</td>\n",
       "      <td>0.0</td>\n",
       "      <td>0.0</td>\n",
       "      <td>0.0</td>\n",
       "    </tr>\n",
       "  </tbody>\n",
       "</table>\n",
       "<p>3 rows × 24 columns</p>\n",
       "</div>"
      ],
      "text/plain": [
       "   2190  224308  4565  562  7227  9606  9986  aestivum  auth  bacillus  ...  \\\n",
       "0   0.0     0.0   0.0  0.0   0.0   0.0   0.0       0.0   0.0       0.0  ...   \n",
       "1   0.0     0.0   0.0  0.0   0.0   0.0   0.0       0.0   0.0       0.0  ...   \n",
       "2   0.0     0.0   0.0  0.0   0.0   0.0   0.0       0.0   0.0       0.0  ...   \n",
       "\n",
       "   homo  jannaschii  melanogaster  methanococcus  oryctolagus  sapiens  \\\n",
       "0   0.0         0.0           0.0            0.0          0.0      0.0   \n",
       "1   0.0         0.0           0.0            0.0          0.0      0.0   \n",
       "2   0.0         0.0           0.0            0.0          0.0      0.0   \n",
       "\n",
       "   subtilis  thermophilus  thermus  triticum  \n",
       "0       0.0           0.0      0.0       0.0  \n",
       "1       0.0           0.0      0.0       0.0  \n",
       "2       0.0           0.0      0.0       0.0  \n",
       "\n",
       "[3 rows x 24 columns]"
      ]
     },
     "execution_count": 13,
     "metadata": {},
     "output_type": "execute_result"
    }
   ],
   "source": [
    "#try to reduce the number of word features\n",
    "var_selector=VarianceThreshold(threshold=0.01)\n",
    "da_select=var_selector.fit_transform(tfidf_all_df) #transform on test df\n",
    "ft_names=var_selector.get_feature_names_out()\n",
    "\n",
    "reduced_wfts_df=pd.DataFrame(da_select, columns=ft_names)\n",
    "reduced_wfts_df.head(3)"
   ]
  },
  {
   "cell_type": "code",
   "execution_count": 14,
   "id": "2e986e6b",
   "metadata": {
    "execution": {
     "iopub.execute_input": "2025-03-28T22:52:11.559619Z",
     "iopub.status.busy": "2025-03-28T22:52:11.559343Z",
     "iopub.status.idle": "2025-03-28T22:52:11.562674Z",
     "shell.execute_reply": "2025-03-28T22:52:11.561872Z"
    },
    "papermill": {
     "duration": 0.009335,
     "end_time": "2025-03-28T22:52:11.563894",
     "exception": false,
     "start_time": "2025-03-28T22:52:11.554559",
     "status": "completed"
    },
    "tags": []
   },
   "outputs": [],
   "source": [
    "#numerical columns\n",
    "num_cols=['resid', 'pdb_monomer', 'seq_len']\n",
    "\n",
    "#y: coordinates\n",
    "y_list=training_coordinates\n",
    "\n",
    "#TODO: merge features into X and run model "
   ]
  }
 ],
 "metadata": {
  "kaggle": {
   "accelerator": "gpu",
   "dataSources": [
    {
     "databundleVersionId": 11553390,
     "sourceId": 87793,
     "sourceType": "competition"
    }
   ],
   "dockerImageVersionId": 30918,
   "isGpuEnabled": true,
   "isInternetEnabled": true,
   "language": "python",
   "sourceType": "notebook"
  },
  "kernelspec": {
   "display_name": "Python 3",
   "language": "python",
   "name": "python3"
  },
  "language_info": {
   "codemirror_mode": {
    "name": "ipython",
    "version": 3
   },
   "file_extension": ".py",
   "mimetype": "text/x-python",
   "name": "python",
   "nbconvert_exporter": "python",
   "pygments_lexer": "ipython3",
   "version": "3.10.12"
  },
  "papermill": {
   "default_parameters": {},
   "duration": 65.386367,
   "end_time": "2025-03-28T22:52:13.288349",
   "environment_variables": {},
   "exception": null,
   "input_path": "__notebook__.ipynb",
   "output_path": "__notebook__.ipynb",
   "parameters": {},
   "start_time": "2025-03-28T22:51:07.901982",
   "version": "2.6.0"
  }
 },
 "nbformat": 4,
 "nbformat_minor": 5
}
