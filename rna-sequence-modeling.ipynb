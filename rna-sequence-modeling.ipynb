{
 "cells": [
  {
   "cell_type": "code",
   "execution_count": 1,
   "id": "8774bfe5",
   "metadata": {
    "_cell_guid": "b1076dfc-b9ad-4769-8c92-a6c4dae69d19",
    "_uuid": "8f2839f25d086af736a60e9eeb907d3b93b6e0e5",
    "execution": {
     "iopub.execute_input": "2025-03-30T00:50:51.071273Z",
     "iopub.status.busy": "2025-03-30T00:50:51.070927Z",
     "iopub.status.idle": "2025-03-30T00:50:57.269164Z",
     "shell.execute_reply": "2025-03-30T00:50:57.268147Z"
    },
    "papermill": {
     "duration": 6.206108,
     "end_time": "2025-03-30T00:50:57.271268",
     "exception": false,
     "start_time": "2025-03-30T00:50:51.065160",
     "status": "completed"
    },
    "tags": []
   },
   "outputs": [],
   "source": [
    "import numpy as np # linear algebra\n",
    "import pandas as pd # data processing, CSV file I/O (e.g. pd.read_csv)\n",
    "import os\n",
    "import re\n",
    "import torch\n",
    "import torch.nn as nn\n",
    "\n",
    "#approach: utilize a model for each output coordinate\n",
    "import xgboost as xgb\n",
    "from catboost import CatBoostRegressor\n",
    "from sklearn.preprocessing import OneHotEncoder\n",
    "from sklearn.feature_extraction.text import TfidfVectorizer\n",
    "from sklearn.feature_extraction import FeatureHasher\n",
    "from sklearn.feature_selection import VarianceThreshold\n",
    "from sklearn.model_selection import RepeatedKFold, cross_val_score"
   ]
  },
  {
   "cell_type": "code",
   "execution_count": 2,
   "id": "42075b5d",
   "metadata": {
    "execution": {
     "iopub.execute_input": "2025-03-30T00:50:57.280897Z",
     "iopub.status.busy": "2025-03-30T00:50:57.280307Z",
     "iopub.status.idle": "2025-03-30T00:50:57.284836Z",
     "shell.execute_reply": "2025-03-30T00:50:57.284093Z"
    },
    "papermill": {
     "duration": 0.010443,
     "end_time": "2025-03-30T00:50:57.286101",
     "exception": false,
     "start_time": "2025-03-30T00:50:57.275658",
     "status": "completed"
    },
    "tags": []
   },
   "outputs": [],
   "source": [
    "training_path='/kaggle/input/stanford-rna-3d-folding/train_sequences.csv'\n",
    "validation_path='/kaggle/input/stanford-rna-3d-folding/validation_sequences.csv'\n",
    "testing_path='/kaggle/input/stanford-rna-3d-folding/test_sequences.csv'\n",
    "\n",
    "training_labels_path='/kaggle/input/stanford-rna-3d-folding/train_labels.csv'\n",
    "validation_labels_path='/kaggle/input/stanford-rna-3d-folding/validation_labels.csv'\n",
    "\n",
    "submission_path='/kaggle/input/stanford-rna-3d-folding/sample_submission.csv'"
   ]
  },
  {
   "cell_type": "code",
   "execution_count": 3,
   "id": "a28820aa",
   "metadata": {
    "execution": {
     "iopub.execute_input": "2025-03-30T00:50:57.294583Z",
     "iopub.status.busy": "2025-03-30T00:50:57.294289Z",
     "iopub.status.idle": "2025-03-30T00:50:57.411760Z",
     "shell.execute_reply": "2025-03-30T00:50:57.410616Z"
    },
    "papermill": {
     "duration": 0.123696,
     "end_time": "2025-03-30T00:50:57.413554",
     "exception": false,
     "start_time": "2025-03-30T00:50:57.289858",
     "status": "completed"
    },
    "tags": []
   },
   "outputs": [
    {
     "data": {
      "text/html": [
       "<div>\n",
       "<style scoped>\n",
       "    .dataframe tbody tr th:only-of-type {\n",
       "        vertical-align: middle;\n",
       "    }\n",
       "\n",
       "    .dataframe tbody tr th {\n",
       "        vertical-align: top;\n",
       "    }\n",
       "\n",
       "    .dataframe thead th {\n",
       "        text-align: right;\n",
       "    }\n",
       "</style>\n",
       "<table border=\"1\" class=\"dataframe\">\n",
       "  <thead>\n",
       "    <tr style=\"text-align: right;\">\n",
       "      <th></th>\n",
       "      <th>target_id</th>\n",
       "      <th>sequence</th>\n",
       "      <th>temporal_cutoff</th>\n",
       "      <th>description</th>\n",
       "      <th>all_sequences</th>\n",
       "    </tr>\n",
       "  </thead>\n",
       "  <tbody>\n",
       "    <tr>\n",
       "      <th>691</th>\n",
       "      <td>7S3H_R</td>\n",
       "      <td>GGCUGCGUAUUUCUACUCUGUUGUUUUAGAGCUAGAAAUAGCAAGU...</td>\n",
       "      <td>2022-04-20</td>\n",
       "      <td>Cas9:sgRNA:DNA (S. pyogenes) with 0 RNA:DNA ba...</td>\n",
       "      <td>&gt;7S3H_1|Chain A[auth N]|Non-target DNA strand|...</td>\n",
       "    </tr>\n",
       "  </tbody>\n",
       "</table>\n",
       "</div>"
      ],
      "text/plain": [
       "    target_id                                           sequence  \\\n",
       "691    7S3H_R  GGCUGCGUAUUUCUACUCUGUUGUUUUAGAGCUAGAAAUAGCAAGU...   \n",
       "\n",
       "    temporal_cutoff                                        description  \\\n",
       "691      2022-04-20  Cas9:sgRNA:DNA (S. pyogenes) with 0 RNA:DNA ba...   \n",
       "\n",
       "                                         all_sequences  \n",
       "691  >7S3H_1|Chain A[auth N]|Non-target DNA strand|...  "
      ]
     },
     "execution_count": 3,
     "metadata": {},
     "output_type": "execute_result"
    }
   ],
   "source": [
    "train_df=pd.read_csv(training_path)\n",
    "update_train_df=train_df[train_df['temporal_cutoff']<\"2022-05-27\"]\n",
    "update_train_df.tail(1)"
   ]
  },
  {
   "cell_type": "code",
   "execution_count": 4,
   "id": "93a8036d",
   "metadata": {
    "execution": {
     "iopub.execute_input": "2025-03-30T00:50:57.423395Z",
     "iopub.status.busy": "2025-03-30T00:50:57.423144Z",
     "iopub.status.idle": "2025-03-30T00:50:57.750674Z",
     "shell.execute_reply": "2025-03-30T00:50:57.749648Z"
    },
    "papermill": {
     "duration": 0.33444,
     "end_time": "2025-03-30T00:50:57.752553",
     "exception": false,
     "start_time": "2025-03-30T00:50:57.418113",
     "status": "completed"
    },
    "tags": []
   },
   "outputs": [
    {
     "data": {
      "text/html": [
       "<div>\n",
       "<style scoped>\n",
       "    .dataframe tbody tr th:only-of-type {\n",
       "        vertical-align: middle;\n",
       "    }\n",
       "\n",
       "    .dataframe tbody tr th {\n",
       "        vertical-align: top;\n",
       "    }\n",
       "\n",
       "    .dataframe thead th {\n",
       "        text-align: right;\n",
       "    }\n",
       "</style>\n",
       "<table border=\"1\" class=\"dataframe\">\n",
       "  <thead>\n",
       "    <tr style=\"text-align: right;\">\n",
       "      <th></th>\n",
       "      <th>ID</th>\n",
       "      <th>resname</th>\n",
       "      <th>resid</th>\n",
       "      <th>x_1</th>\n",
       "      <th>y_1</th>\n",
       "      <th>z_1</th>\n",
       "    </tr>\n",
       "  </thead>\n",
       "  <tbody>\n",
       "    <tr>\n",
       "      <th>0</th>\n",
       "      <td>1SCL_A_1</td>\n",
       "      <td>G</td>\n",
       "      <td>1</td>\n",
       "      <td>13.76</td>\n",
       "      <td>-25.974001</td>\n",
       "      <td>0.102</td>\n",
       "    </tr>\n",
       "  </tbody>\n",
       "</table>\n",
       "</div>"
      ],
      "text/plain": [
       "         ID resname  resid    x_1        y_1    z_1\n",
       "0  1SCL_A_1       G      1  13.76 -25.974001  0.102"
      ]
     },
     "execution_count": 4,
     "metadata": {},
     "output_type": "execute_result"
    }
   ],
   "source": [
    "train_labels_df=pd.read_csv(training_labels_path)\n",
    "train_labels_df.head(1)"
   ]
  },
  {
   "cell_type": "markdown",
   "id": "133780a0",
   "metadata": {
    "papermill": {
     "duration": 0.006974,
     "end_time": "2025-03-30T00:50:57.767644",
     "exception": false,
     "start_time": "2025-03-30T00:50:57.760670",
     "status": "completed"
    },
    "tags": []
   },
   "source": [
    "**Sequence structure prediction preprocessing**"
   ]
  },
  {
   "cell_type": "code",
   "execution_count": 5,
   "id": "d001c0e0",
   "metadata": {
    "execution": {
     "iopub.execute_input": "2025-03-30T00:50:57.776750Z",
     "iopub.status.busy": "2025-03-30T00:50:57.776428Z",
     "iopub.status.idle": "2025-03-30T00:50:58.545182Z",
     "shell.execute_reply": "2025-03-30T00:50:58.544214Z"
    },
    "papermill": {
     "duration": 0.775292,
     "end_time": "2025-03-30T00:50:58.546899",
     "exception": false,
     "start_time": "2025-03-30T00:50:57.771607",
     "status": "completed"
    },
    "tags": []
   },
   "outputs": [
    {
     "data": {
      "text/html": [
       "<div>\n",
       "<style scoped>\n",
       "    .dataframe tbody tr th:only-of-type {\n",
       "        vertical-align: middle;\n",
       "    }\n",
       "\n",
       "    .dataframe tbody tr th {\n",
       "        vertical-align: top;\n",
       "    }\n",
       "\n",
       "    .dataframe thead th {\n",
       "        text-align: right;\n",
       "    }\n",
       "</style>\n",
       "<table border=\"1\" class=\"dataframe\">\n",
       "  <thead>\n",
       "    <tr style=\"text-align: right;\">\n",
       "      <th></th>\n",
       "      <th>target_id</th>\n",
       "      <th>sequence</th>\n",
       "      <th>temporal_cutoff</th>\n",
       "      <th>description</th>\n",
       "      <th>all_sequences</th>\n",
       "      <th>ID</th>\n",
       "      <th>resname</th>\n",
       "      <th>resid</th>\n",
       "      <th>x_1</th>\n",
       "      <th>y_1</th>\n",
       "      <th>z_1</th>\n",
       "      <th>pdb_monomer</th>\n",
       "    </tr>\n",
       "  </thead>\n",
       "  <tbody>\n",
       "    <tr>\n",
       "      <th>0</th>\n",
       "      <td>1SCL_A</td>\n",
       "      <td>GGGUGCUCAGUACGAGAGGAACCGCACCC</td>\n",
       "      <td>1995-01-26</td>\n",
       "      <td>THE SARCIN-RICIN LOOP, A MODULAR RNA</td>\n",
       "      <td>&gt;1SCL_1|Chain A|RNA SARCIN-RICIN LOOP|Rattus n...</td>\n",
       "      <td>1SCL_A_1</td>\n",
       "      <td>G</td>\n",
       "      <td>1</td>\n",
       "      <td>13.76</td>\n",
       "      <td>-25.974001</td>\n",
       "      <td>0.102</td>\n",
       "      <td>1</td>\n",
       "    </tr>\n",
       "  </tbody>\n",
       "</table>\n",
       "</div>"
      ],
      "text/plain": [
       "  target_id                       sequence temporal_cutoff  \\\n",
       "0    1SCL_A  GGGUGCUCAGUACGAGAGGAACCGCACCC      1995-01-26   \n",
       "\n",
       "                            description  \\\n",
       "0  THE SARCIN-RICIN LOOP, A MODULAR RNA   \n",
       "\n",
       "                                       all_sequences        ID resname  resid  \\\n",
       "0  >1SCL_1|Chain A|RNA SARCIN-RICIN LOOP|Rattus n...  1SCL_A_1       G      1   \n",
       "\n",
       "     x_1        y_1    z_1 pdb_monomer  \n",
       "0  13.76 -25.974001  0.102           1  "
      ]
     },
     "execution_count": 5,
     "metadata": {},
     "output_type": "execute_result"
    }
   ],
   "source": [
    "#Extract target label: Protein Data Bank id, Monomer chain id\n",
    "train_labels_df['target_id']=train_labels_df['ID'].str.rsplit('_',n=1).str[0]\n",
    "train_labels_df['pdb_monomer']=train_labels_df['ID'].str.rsplit('_',n=1).str[1]\n",
    "\n",
    "#update submission df\n",
    "submission_df=pd.read_csv(submission_path)\n",
    "submission_df['target_id']=submission_df['ID'].str.rsplit('_',n=1).str[0]\n",
    "submission_df['pdb_monomer']=submission_df['ID'].str.rsplit('_',n=1).str[1]\n",
    "\n",
    "train_full_df=update_train_df.merge(train_labels_df, how=\"left\", on=\"target_id\")\n",
    "\n",
    "#train_labels_df.head(1)\n",
    "train_full_df.head(1)\n",
    "#submission_df.head(1)"
   ]
  },
  {
   "cell_type": "code",
   "execution_count": 6,
   "id": "86d0ae4b",
   "metadata": {
    "execution": {
     "iopub.execute_input": "2025-03-30T00:50:58.563700Z",
     "iopub.status.busy": "2025-03-30T00:50:58.563345Z",
     "iopub.status.idle": "2025-03-30T00:50:58.642045Z",
     "shell.execute_reply": "2025-03-30T00:50:58.641104Z"
    },
    "papermill": {
     "duration": 0.088421,
     "end_time": "2025-03-30T00:50:58.643461",
     "exception": false,
     "start_time": "2025-03-30T00:50:58.555040",
     "status": "completed"
    },
    "tags": []
   },
   "outputs": [
    {
     "data": {
      "text/plain": [
       "target_id          0\n",
       "sequence           0\n",
       "temporal_cutoff    0\n",
       "description        0\n",
       "all_sequences      0\n",
       "ID                 0\n",
       "resname            0\n",
       "resid              0\n",
       "x_1                0\n",
       "y_1                0\n",
       "z_1                0\n",
       "pdb_monomer        0\n",
       "dtype: int64"
      ]
     },
     "execution_count": 6,
     "metadata": {},
     "output_type": "execute_result"
    }
   ],
   "source": [
    "#fill in nan description in all_sequences with \"missing\"\n",
    "train_full_df['all_sequences']=train_full_df['all_sequences'].astype(str).fillna(\"missing\")\n",
    "\n",
    "#fill in missing coordinates with mean values\n",
    "training_coordinates=['x_1','y_1','z_1']\n",
    "for t in training_coordinates:\n",
    "    t_mean=train_full_df[t].mean()\n",
    "    train_full_df[t]=train_full_df[t].fillna(t_mean)\n",
    "\n",
    "train_full_df.isna().sum()"
   ]
  },
  {
   "cell_type": "code",
   "execution_count": 7,
   "id": "d94d9a61",
   "metadata": {
    "execution": {
     "iopub.execute_input": "2025-03-30T00:50:58.654002Z",
     "iopub.status.busy": "2025-03-30T00:50:58.653684Z",
     "iopub.status.idle": "2025-03-30T00:50:58.657909Z",
     "shell.execute_reply": "2025-03-30T00:50:58.657199Z"
    },
    "papermill": {
     "duration": 0.010862,
     "end_time": "2025-03-30T00:50:58.659153",
     "exception": false,
     "start_time": "2025-03-30T00:50:58.648291",
     "status": "completed"
    },
    "tags": []
   },
   "outputs": [],
   "source": [
    "def df_label_extract_merge(df_path, label_path):\n",
    "    df=pd.read_csv(df_path)\n",
    "    ldf=pd.read_csv(label_path)\n",
    "    ldf['target_id']=ldf['ID'].str.rsplit('_',n=1).str[0]\n",
    "    ldf['pdb_monomer']=ldf['ID'].str.rsplit('_',n=1).str[1]\n",
    "    return df.merge(ldf, how='left', on='target_id')"
   ]
  },
  {
   "cell_type": "code",
   "execution_count": 8,
   "id": "4a38327b",
   "metadata": {
    "execution": {
     "iopub.execute_input": "2025-03-30T00:50:58.668534Z",
     "iopub.status.busy": "2025-03-30T00:50:58.668301Z",
     "iopub.status.idle": "2025-03-30T00:50:58.782257Z",
     "shell.execute_reply": "2025-03-30T00:50:58.781324Z"
    },
    "papermill": {
     "duration": 0.120052,
     "end_time": "2025-03-30T00:50:58.783612",
     "exception": false,
     "start_time": "2025-03-30T00:50:58.663560",
     "status": "completed"
    },
    "tags": []
   },
   "outputs": [
    {
     "data": {
      "text/html": [
       "<div>\n",
       "<style scoped>\n",
       "    .dataframe tbody tr th:only-of-type {\n",
       "        vertical-align: middle;\n",
       "    }\n",
       "\n",
       "    .dataframe tbody tr th {\n",
       "        vertical-align: top;\n",
       "    }\n",
       "\n",
       "    .dataframe thead th {\n",
       "        text-align: right;\n",
       "    }\n",
       "</style>\n",
       "<table border=\"1\" class=\"dataframe\">\n",
       "  <thead>\n",
       "    <tr style=\"text-align: right;\">\n",
       "      <th></th>\n",
       "      <th>target_id</th>\n",
       "      <th>sequence</th>\n",
       "      <th>temporal_cutoff</th>\n",
       "      <th>description</th>\n",
       "      <th>all_sequences</th>\n",
       "      <th>ID</th>\n",
       "      <th>resname</th>\n",
       "      <th>resid</th>\n",
       "      <th>x_1</th>\n",
       "      <th>y_1</th>\n",
       "      <th>...</th>\n",
       "      <th>x_38</th>\n",
       "      <th>y_38</th>\n",
       "      <th>z_38</th>\n",
       "      <th>x_39</th>\n",
       "      <th>y_39</th>\n",
       "      <th>z_39</th>\n",
       "      <th>x_40</th>\n",
       "      <th>y_40</th>\n",
       "      <th>z_40</th>\n",
       "      <th>pdb_monomer</th>\n",
       "    </tr>\n",
       "  </thead>\n",
       "  <tbody>\n",
       "    <tr>\n",
       "      <th>0</th>\n",
       "      <td>R1107</td>\n",
       "      <td>GGGGGCCACAGCAGAAGCGUUCACGUCGCAGCCCCUGUCAGCCAUU...</td>\n",
       "      <td>2022-05-28</td>\n",
       "      <td>CPEB3 ribozyme\\nHuman\\nhuman CPEB3 HDV-like ri...</td>\n",
       "      <td>&gt;7QR4_1|Chain A|U1 small nuclear ribonucleopro...</td>\n",
       "      <td>R1107_1</td>\n",
       "      <td>G</td>\n",
       "      <td>1</td>\n",
       "      <td>-5.499</td>\n",
       "      <td>8.52</td>\n",
       "      <td>...</td>\n",
       "      <td>-1.000000e+18</td>\n",
       "      <td>-1.000000e+18</td>\n",
       "      <td>-1.000000e+18</td>\n",
       "      <td>-1.000000e+18</td>\n",
       "      <td>-1.000000e+18</td>\n",
       "      <td>-1.000000e+18</td>\n",
       "      <td>-1.000000e+18</td>\n",
       "      <td>-1.000000e+18</td>\n",
       "      <td>-1.000000e+18</td>\n",
       "      <td>1</td>\n",
       "    </tr>\n",
       "  </tbody>\n",
       "</table>\n",
       "<p>1 rows × 129 columns</p>\n",
       "</div>"
      ],
      "text/plain": [
       "  target_id                                           sequence  \\\n",
       "0     R1107  GGGGGCCACAGCAGAAGCGUUCACGUCGCAGCCCCUGUCAGCCAUU...   \n",
       "\n",
       "  temporal_cutoff                                        description  \\\n",
       "0      2022-05-28  CPEB3 ribozyme\\nHuman\\nhuman CPEB3 HDV-like ri...   \n",
       "\n",
       "                                       all_sequences       ID resname  resid  \\\n",
       "0  >7QR4_1|Chain A|U1 small nuclear ribonucleopro...  R1107_1       G      1   \n",
       "\n",
       "     x_1   y_1  ...          x_38          y_38          z_38          x_39  \\\n",
       "0 -5.499  8.52  ... -1.000000e+18 -1.000000e+18 -1.000000e+18 -1.000000e+18   \n",
       "\n",
       "           y_39          z_39          x_40          y_40          z_40  \\\n",
       "0 -1.000000e+18 -1.000000e+18 -1.000000e+18 -1.000000e+18 -1.000000e+18   \n",
       "\n",
       "   pdb_monomer  \n",
       "0            1  \n",
       "\n",
       "[1 rows x 129 columns]"
      ]
     },
     "execution_count": 8,
     "metadata": {},
     "output_type": "execute_result"
    }
   ],
   "source": [
    "#validation has 40 structural coordinate output triplets, whereas training has only 1 triplet output\n",
    "validation_df=df_label_extract_merge(df_path=validation_path, label_path=validation_labels_path)\n",
    "validation_df.head(1)"
   ]
  },
  {
   "cell_type": "code",
   "execution_count": 9,
   "id": "a6da2c48",
   "metadata": {
    "execution": {
     "iopub.execute_input": "2025-03-30T00:50:58.793271Z",
     "iopub.status.busy": "2025-03-30T00:50:58.793031Z",
     "iopub.status.idle": "2025-03-30T00:50:58.804334Z",
     "shell.execute_reply": "2025-03-30T00:50:58.803655Z"
    },
    "papermill": {
     "duration": 0.017514,
     "end_time": "2025-03-30T00:50:58.805675",
     "exception": false,
     "start_time": "2025-03-30T00:50:58.788161",
     "status": "completed"
    },
    "tags": []
   },
   "outputs": [],
   "source": [
    "#convert submission csv as same format as original training csv\n",
    "test_df=pd.read_csv(testing_path)\n",
    "test_complete_df=test_df.merge(submission_df, how=\"left\", on=\"target_id\")"
   ]
  },
  {
   "cell_type": "code",
   "execution_count": 10,
   "id": "0f7ca56a",
   "metadata": {
    "execution": {
     "iopub.execute_input": "2025-03-30T00:50:58.815273Z",
     "iopub.status.busy": "2025-03-30T00:50:58.815057Z",
     "iopub.status.idle": "2025-03-30T00:50:58.819417Z",
     "shell.execute_reply": "2025-03-30T00:50:58.818667Z"
    },
    "papermill": {
     "duration": 0.010699,
     "end_time": "2025-03-30T00:50:58.820635",
     "exception": false,
     "start_time": "2025-03-30T00:50:58.809936",
     "status": "completed"
    },
    "tags": []
   },
   "outputs": [
    {
     "name": "stdout",
     "output_type": "stream",
     "text": [
      ">1ZC8_1|Chain A|TLD 16S ribosomal RNA|Thermus thermophilus (274)\n",
      "GGGGCUGAUUCUGGAUUCGACGGGAUAUUUCGGACGCGGGUUCAACUCCCGCCAGCUCC\n",
      ">1ZC8_10|Chain J[auth K]|SsrA-binding protein|Thermus thermophilus (274)\n",
      "GKSDKIIPIAENKEAKAKYDILETYEAGIVLKGSEVKSLREKGTVSFKDSFVRIENGEAWLYNLYIAPYKHATIENHDPLRKRKLLLHKREIMRLYGKVQEKGYTIIPLKLYWKNNKVKVLIALAKGKKL\n",
      ">1ZC8_11|Chain K[auth Y]|Elongation factor Tu|Thermus thermophilus (274)\n",
      "AKGEFIRTKPHVNVGTIGHVDHGKTTLTAALTYVAAAENPNVEVKDYGDIDKAPEERARGITINTAHVEYETAKRHYSHVDCPGHADYIKNMITGAAQMDGAILVVSAADGPMPQTREHILLARQVGVPYIVVFMNKVDMVDDPELLDLVEMEVRDLLNQYEFPGDEVPVIRGSALLALEEMHKNPKTKRGENEWVDKIWELLDAIDEYIPTPVRDVDKPFLMPVEDVFTITGRGTVATGRIERGKVKVGDEVEIVGLAPETRKTVVTGVEMHRKTLQEGIAGDNVGLLLRGVSREEVERGQVLAKPGSITPHTKFEASVYILKKEEGGRHTGFFTGYRPQFYFRTTDVTGVVRLPQGVEMVMPGDNVTFTVELIKPVALEEGLRFAIREGGRTVGAGVVTKILE\n",
      ">1ZC8_2|Chain B|H2 16S rRNA|Thermus thermophilus (274)\n",
      "UUGCGAAACAUGUAGG\n",
      ">1ZC8_3|Chain C|H2b d mRNA|Thermus thermophilus (274)\n",
      "CCCAAGGUGCAUGCGCAUGUAGUACCGAGGA\n",
      ">1ZC8_4|Chain D[auth G]|protein kinase 4 mRNA|Thermus thermophilus (274)\n",
      "CGAGGGGCGGUUGGCCUCGUAAAAAGCCGC\n",
      ">1ZC8_5|Chain E[auth F]|H5 16S ribosomal RNA|Thermus thermophilus (274)\n",
      "CUUUAGCAGCUUAAUAACCUGCUUAGAGC\n",
      ">1ZC8_6|Chain F[auth H]|protein kinase 2 mRNA|Thermus thermophilus (274)\n",
      "CCUCUCUCCCUAGCCUCCGCUCUUAGGACGGGGAUCAAGAGAGGUCAAACCCAAAAGAG\n",
      ">1ZC8_7|Chain G[auth I]|protein kinase 3|Thermus thermophilus (274)\n",
      "AUCGCGUGGAAGCCCUGCCUGGGGUUGAAGCGUUAAAACUUAAUCAGGC\n",
      ">1ZC8_8|Chain H[auth J]|protein kinase 4 mRNA|Thermus thermophilus (274)\n",
      "GUUUGUUAGUGGCGUGUCCGUCCGCAGCUGGCAAGCGAAUGUAAAGACUGAC\n",
      ">1ZC8_9|Chain I[auth Z]|H44 16S ribosomal RNA|Thermus thermophilus (274)\n",
      "GCCCGUCACGCCAUGGGAGCGGGCUCUACCCGAAGUCGCCGGGAGCCUACGGGCAGGCGCCGAGGGUAGGGCCCGUGACUGGGGCGAAGUC\n",
      "\n"
     ]
    }
   ],
   "source": [
    "print(train_full_df.loc[6500,'all_sequences'])"
   ]
  },
  {
   "cell_type": "markdown",
   "id": "04d479f0",
   "metadata": {
    "papermill": {
     "duration": 0.003993,
     "end_time": "2025-03-30T00:50:58.829143",
     "exception": false,
     "start_time": "2025-03-30T00:50:58.825150",
     "status": "completed"
    },
    "tags": []
   },
   "source": [
    "**Feature Engineering**\n",
    "- Add 3D structural information in the PDB database https://search.rcsb.org/#search-services\n",
    "- data augmentation & transfer learning: SPOT-RNA, pretrained on bpRNA database (stems, hairpin loops and pseudoknots)\n",
    "- sequences converted to 2D images: MXFold2 utilizes UFold process to then input into a CNN and efficiently generate results\n",
    "- ARES atom-level information instead of nucleotides (small training set used)\n",
    "- EternalFold: uses chemical mapping, and riboswitch–ligand binding affinity data\n"
   ]
  },
  {
   "cell_type": "code",
   "execution_count": 11,
   "id": "82a1bd4e",
   "metadata": {
    "execution": {
     "iopub.execute_input": "2025-03-30T00:50:58.839370Z",
     "iopub.status.busy": "2025-03-30T00:50:58.839132Z",
     "iopub.status.idle": "2025-03-30T00:50:58.911693Z",
     "shell.execute_reply": "2025-03-30T00:50:58.910768Z"
    },
    "papermill": {
     "duration": 0.07922,
     "end_time": "2025-03-30T00:50:58.913092",
     "exception": false,
     "start_time": "2025-03-30T00:50:58.833872",
     "status": "completed"
    },
    "tags": []
   },
   "outputs": [
    {
     "name": "stdout",
     "output_type": "stream",
     "text": [
      "True\n"
     ]
    },
    {
     "data": {
      "text/plain": [
       "4298"
      ]
     },
     "execution_count": 11,
     "metadata": {},
     "output_type": "execute_result"
    }
   ],
   "source": [
    "print(torch.cuda.is_available())\n",
    "len(train_full_df['pdb_monomer'].unique())"
   ]
  },
  {
   "cell_type": "code",
   "execution_count": 12,
   "id": "7ff5e52b",
   "metadata": {
    "execution": {
     "iopub.execute_input": "2025-03-30T00:50:58.923444Z",
     "iopub.status.busy": "2025-03-30T00:50:58.923221Z",
     "iopub.status.idle": "2025-03-30T00:51:51.641108Z",
     "shell.execute_reply": "2025-03-30T00:51:51.640039Z"
    },
    "papermill": {
     "duration": 52.728623,
     "end_time": "2025-03-30T00:51:51.646558",
     "exception": false,
     "start_time": "2025-03-30T00:50:58.917935",
     "status": "completed"
    },
    "tags": []
   },
   "outputs": [
    {
     "name": "stdout",
     "output_type": "stream",
     "text": [
      "unique ids: 692\n",
      "unique resname: 6\n",
      "['G' 'U' 'C' 'A' '-' 'X']\n",
      "total datapoints: 113616\n"
     ]
    },
    {
     "data": {
      "text/html": [
       "<div>\n",
       "<style scoped>\n",
       "    .dataframe tbody tr th:only-of-type {\n",
       "        vertical-align: middle;\n",
       "    }\n",
       "\n",
       "    .dataframe tbody tr th {\n",
       "        vertical-align: top;\n",
       "    }\n",
       "\n",
       "    .dataframe thead th {\n",
       "        text-align: right;\n",
       "    }\n",
       "</style>\n",
       "<table border=\"1\" class=\"dataframe\">\n",
       "  <thead>\n",
       "    <tr style=\"text-align: right;\">\n",
       "      <th></th>\n",
       "      <th>01</th>\n",
       "      <th>02</th>\n",
       "      <th>03</th>\n",
       "      <th>04</th>\n",
       "      <th>05</th>\n",
       "      <th>10</th>\n",
       "      <th>100440</th>\n",
       "      <th>10045</th>\n",
       "      <th>100673</th>\n",
       "      <th>10090</th>\n",
       "      <th>...</th>\n",
       "      <th>zb</th>\n",
       "      <th>zc</th>\n",
       "      <th>zd</th>\n",
       "      <th>ze</th>\n",
       "      <th>zf</th>\n",
       "      <th>zg</th>\n",
       "      <th>zh</th>\n",
       "      <th>zi</th>\n",
       "      <th>zika</th>\n",
       "      <th>zz</th>\n",
       "    </tr>\n",
       "  </thead>\n",
       "  <tbody>\n",
       "    <tr>\n",
       "      <th>0</th>\n",
       "      <td>0.0</td>\n",
       "      <td>0.0</td>\n",
       "      <td>0.0</td>\n",
       "      <td>0.0</td>\n",
       "      <td>0.0</td>\n",
       "      <td>0.0</td>\n",
       "      <td>0.0</td>\n",
       "      <td>0.0</td>\n",
       "      <td>0.0</td>\n",
       "      <td>0.0</td>\n",
       "      <td>...</td>\n",
       "      <td>0.0</td>\n",
       "      <td>0.0</td>\n",
       "      <td>0.0</td>\n",
       "      <td>0.0</td>\n",
       "      <td>0.0</td>\n",
       "      <td>0.0</td>\n",
       "      <td>0.0</td>\n",
       "      <td>0.0</td>\n",
       "      <td>0.0</td>\n",
       "      <td>0.0</td>\n",
       "    </tr>\n",
       "    <tr>\n",
       "      <th>1</th>\n",
       "      <td>0.0</td>\n",
       "      <td>0.0</td>\n",
       "      <td>0.0</td>\n",
       "      <td>0.0</td>\n",
       "      <td>0.0</td>\n",
       "      <td>0.0</td>\n",
       "      <td>0.0</td>\n",
       "      <td>0.0</td>\n",
       "      <td>0.0</td>\n",
       "      <td>0.0</td>\n",
       "      <td>...</td>\n",
       "      <td>0.0</td>\n",
       "      <td>0.0</td>\n",
       "      <td>0.0</td>\n",
       "      <td>0.0</td>\n",
       "      <td>0.0</td>\n",
       "      <td>0.0</td>\n",
       "      <td>0.0</td>\n",
       "      <td>0.0</td>\n",
       "      <td>0.0</td>\n",
       "      <td>0.0</td>\n",
       "    </tr>\n",
       "    <tr>\n",
       "      <th>2</th>\n",
       "      <td>0.0</td>\n",
       "      <td>0.0</td>\n",
       "      <td>0.0</td>\n",
       "      <td>0.0</td>\n",
       "      <td>0.0</td>\n",
       "      <td>0.0</td>\n",
       "      <td>0.0</td>\n",
       "      <td>0.0</td>\n",
       "      <td>0.0</td>\n",
       "      <td>0.0</td>\n",
       "      <td>...</td>\n",
       "      <td>0.0</td>\n",
       "      <td>0.0</td>\n",
       "      <td>0.0</td>\n",
       "      <td>0.0</td>\n",
       "      <td>0.0</td>\n",
       "      <td>0.0</td>\n",
       "      <td>0.0</td>\n",
       "      <td>0.0</td>\n",
       "      <td>0.0</td>\n",
       "      <td>0.0</td>\n",
       "    </tr>\n",
       "  </tbody>\n",
       "</table>\n",
       "<p>3 rows × 5000 columns</p>\n",
       "</div>"
      ],
      "text/plain": [
       "    01   02   03   04   05   10  100440  10045  100673  10090  ...   zb   zc  \\\n",
       "0  0.0  0.0  0.0  0.0  0.0  0.0     0.0    0.0     0.0    0.0  ...  0.0  0.0   \n",
       "1  0.0  0.0  0.0  0.0  0.0  0.0     0.0    0.0     0.0    0.0  ...  0.0  0.0   \n",
       "2  0.0  0.0  0.0  0.0  0.0  0.0     0.0    0.0     0.0    0.0  ...  0.0  0.0   \n",
       "\n",
       "    zd   ze   zf   zg   zh   zi  zika   zz  \n",
       "0  0.0  0.0  0.0  0.0  0.0  0.0   0.0  0.0  \n",
       "1  0.0  0.0  0.0  0.0  0.0  0.0   0.0  0.0  \n",
       "2  0.0  0.0  0.0  0.0  0.0  0.0   0.0  0.0  \n",
       "\n",
       "[3 rows x 5000 columns]"
      ]
     },
     "execution_count": 12,
     "metadata": {},
     "output_type": "execute_result"
    }
   ],
   "source": [
    "#simple sequence length feature\n",
    "train_full_df['seq_len']=train_full_df['sequence'].str.len()\n",
    "test_complete_df['seq_len']=test_complete_df['sequence'].str.len()\n",
    "\n",
    "#categorical columns\n",
    "cat_cols=['target_id', 'resname']\n",
    "\n",
    "#dataset inspection\n",
    "print('unique ids:', len(train_full_df['target_id'].unique()))\n",
    "print('unique resname:', len(train_full_df['resname'].unique()))\n",
    "print(train_full_df['resname'].unique())\n",
    "print('total datapoints:', len(train_full_df))\n",
    "\n",
    "#Encode and create an embedding features from the target ids\n",
    "encoded_ids, id_maps= pd.factorize(train_full_df['target_id'])\n",
    "id_tensor=torch.tensor(encoded_ids, dtype=torch.long)\n",
    "embed_size=int(len(train_full_df['target_id'].unique()))\n",
    "embedding_dim=min(50, np.power(len(train_full_df['target_id'].unique()),0.25))\n",
    "#print(np.ceil(embedding_dim))\n",
    "embed_dim=int(np.ceil(embedding_dim))\n",
    "embed_layer=nn.Embedding(num_embeddings=embed_size, embedding_dim=embed_dim)\n",
    "embed_ids=embed_layer(id_tensor).detach().cpu().numpy()\n",
    "embed_id_df=pd.DataFrame(embed_ids, columns=[f'embedim_{i}' for i in range(embed_dim)])\n",
    "\n",
    "#TF-IDF transform description and all-sequences columns into word embedding features\n",
    "tfidf_vec=TfidfVectorizer(min_df=5, max_df=0.9, max_features=5000) \n",
    "\n",
    "train_full_df['combined_descrip_allseqs']=train_full_df['description']+' '+train_full_df['all_sequences']\n",
    "\n",
    "tfidf_all=tfidf_vec.fit_transform(train_full_df['combined_descrip_allseqs'])\n",
    "\n",
    "#after inspecting some allsequence text some have 'xxxxxxxxxx'\n",
    "# ft_names=list(tfidf_vec.get_feature_names_out())\n",
    "\n",
    "# pattern = f\"({re.escape('x')})\\\\1*\"\n",
    "# filter_words=[f for f in ft_names if not f.isnumeric() and not re.fullmatch(pattern, f)]\n",
    "\n",
    "# print(len(filter_words))\n",
    "\n",
    "tfidf_all_df=pd.DataFrame(tfidf_all.toarray(), columns=tfidf_vec.get_feature_names_out())\n",
    "\n",
    "tfidf_all_df.head(3)"
   ]
  },
  {
   "cell_type": "code",
   "execution_count": 13,
   "id": "2c75ebd4",
   "metadata": {
    "execution": {
     "iopub.execute_input": "2025-03-30T00:51:51.657565Z",
     "iopub.status.busy": "2025-03-30T00:51:51.657315Z",
     "iopub.status.idle": "2025-03-30T00:51:59.359315Z",
     "shell.execute_reply": "2025-03-30T00:51:59.358418Z"
    },
    "papermill": {
     "duration": 7.709033,
     "end_time": "2025-03-30T00:51:59.360759",
     "exception": false,
     "start_time": "2025-03-30T00:51:51.651726",
     "status": "completed"
    },
    "tags": []
   },
   "outputs": [
    {
     "data": {
      "text/html": [
       "<div>\n",
       "<style scoped>\n",
       "    .dataframe tbody tr th:only-of-type {\n",
       "        vertical-align: middle;\n",
       "    }\n",
       "\n",
       "    .dataframe tbody tr th {\n",
       "        vertical-align: top;\n",
       "    }\n",
       "\n",
       "    .dataframe thead th {\n",
       "        text-align: right;\n",
       "    }\n",
       "</style>\n",
       "<table border=\"1\" class=\"dataframe\">\n",
       "  <thead>\n",
       "    <tr style=\"text-align: right;\">\n",
       "      <th></th>\n",
       "      <th>aestivum</th>\n",
       "      <th>auth</th>\n",
       "      <th>bacillus</th>\n",
       "      <th>coli</th>\n",
       "      <th>cuniculus</th>\n",
       "      <th>drosophila</th>\n",
       "      <th>escherichia</th>\n",
       "      <th>homo</th>\n",
       "      <th>jannaschii</th>\n",
       "      <th>melanogaster</th>\n",
       "      <th>methanococcus</th>\n",
       "      <th>oryctolagus</th>\n",
       "      <th>sapiens</th>\n",
       "      <th>subtilis</th>\n",
       "      <th>thermophilus</th>\n",
       "      <th>thermus</th>\n",
       "      <th>triticum</th>\n",
       "    </tr>\n",
       "  </thead>\n",
       "  <tbody>\n",
       "    <tr>\n",
       "      <th>0</th>\n",
       "      <td>0.0</td>\n",
       "      <td>0.0</td>\n",
       "      <td>0.0</td>\n",
       "      <td>0.0</td>\n",
       "      <td>0.0</td>\n",
       "      <td>0.0</td>\n",
       "      <td>0.0</td>\n",
       "      <td>0.0</td>\n",
       "      <td>0.0</td>\n",
       "      <td>0.0</td>\n",
       "      <td>0.0</td>\n",
       "      <td>0.0</td>\n",
       "      <td>0.0</td>\n",
       "      <td>0.0</td>\n",
       "      <td>0.0</td>\n",
       "      <td>0.0</td>\n",
       "      <td>0.0</td>\n",
       "    </tr>\n",
       "    <tr>\n",
       "      <th>1</th>\n",
       "      <td>0.0</td>\n",
       "      <td>0.0</td>\n",
       "      <td>0.0</td>\n",
       "      <td>0.0</td>\n",
       "      <td>0.0</td>\n",
       "      <td>0.0</td>\n",
       "      <td>0.0</td>\n",
       "      <td>0.0</td>\n",
       "      <td>0.0</td>\n",
       "      <td>0.0</td>\n",
       "      <td>0.0</td>\n",
       "      <td>0.0</td>\n",
       "      <td>0.0</td>\n",
       "      <td>0.0</td>\n",
       "      <td>0.0</td>\n",
       "      <td>0.0</td>\n",
       "      <td>0.0</td>\n",
       "    </tr>\n",
       "    <tr>\n",
       "      <th>2</th>\n",
       "      <td>0.0</td>\n",
       "      <td>0.0</td>\n",
       "      <td>0.0</td>\n",
       "      <td>0.0</td>\n",
       "      <td>0.0</td>\n",
       "      <td>0.0</td>\n",
       "      <td>0.0</td>\n",
       "      <td>0.0</td>\n",
       "      <td>0.0</td>\n",
       "      <td>0.0</td>\n",
       "      <td>0.0</td>\n",
       "      <td>0.0</td>\n",
       "      <td>0.0</td>\n",
       "      <td>0.0</td>\n",
       "      <td>0.0</td>\n",
       "      <td>0.0</td>\n",
       "      <td>0.0</td>\n",
       "    </tr>\n",
       "  </tbody>\n",
       "</table>\n",
       "</div>"
      ],
      "text/plain": [
       "   aestivum  auth  bacillus  coli  cuniculus  drosophila  escherichia  homo  \\\n",
       "0       0.0   0.0       0.0   0.0        0.0         0.0          0.0   0.0   \n",
       "1       0.0   0.0       0.0   0.0        0.0         0.0          0.0   0.0   \n",
       "2       0.0   0.0       0.0   0.0        0.0         0.0          0.0   0.0   \n",
       "\n",
       "   jannaschii  melanogaster  methanococcus  oryctolagus  sapiens  subtilis  \\\n",
       "0         0.0           0.0            0.0          0.0      0.0       0.0   \n",
       "1         0.0           0.0            0.0          0.0      0.0       0.0   \n",
       "2         0.0           0.0            0.0          0.0      0.0       0.0   \n",
       "\n",
       "   thermophilus  thermus  triticum  \n",
       "0           0.0      0.0       0.0  \n",
       "1           0.0      0.0       0.0  \n",
       "2           0.0      0.0       0.0  "
      ]
     },
     "execution_count": 13,
     "metadata": {},
     "output_type": "execute_result"
    }
   ],
   "source": [
    "#try to reduce the number of word features\n",
    "var_selector=VarianceThreshold(threshold=0.01)\n",
    "da_select=var_selector.fit_transform(tfidf_all_df) #transform on test df\n",
    "ft_names=var_selector.get_feature_names_out()\n",
    "non_num_ftnames=[f for f in ft_names if not f.isnumeric()]\n",
    "reduced_wfts_df=pd.DataFrame(da_select, columns=ft_names)[non_num_ftnames]\n",
    "reduced_wfts_df.head(3)"
   ]
  },
  {
   "cell_type": "code",
   "execution_count": 14,
   "id": "bed7c739",
   "metadata": {
    "execution": {
     "iopub.execute_input": "2025-03-30T00:51:59.372917Z",
     "iopub.status.busy": "2025-03-30T00:51:59.372612Z",
     "iopub.status.idle": "2025-03-30T00:51:59.384386Z",
     "shell.execute_reply": "2025-03-30T00:51:59.383632Z"
    },
    "papermill": {
     "duration": 0.019421,
     "end_time": "2025-03-30T00:51:59.385773",
     "exception": false,
     "start_time": "2025-03-30T00:51:59.366352",
     "status": "completed"
    },
    "tags": []
   },
   "outputs": [],
   "source": [
    "#Encode the resname\n",
    "ohe_resname=pd.get_dummies(train_full_df['resname'], dtype='int')\n",
    "#ohe_resname\n",
    "# ohe_rdf=pd.DataFrame(ohe_resname.toarray(), columns=ohe.get_features_names_out())\n",
    "# ohe_rdf.head(3)"
   ]
  },
  {
   "cell_type": "code",
   "execution_count": 15,
   "id": "6261d7f2",
   "metadata": {
    "execution": {
     "iopub.execute_input": "2025-03-30T00:51:59.396959Z",
     "iopub.status.busy": "2025-03-30T00:51:59.396677Z",
     "iopub.status.idle": "2025-03-30T00:51:59.414499Z",
     "shell.execute_reply": "2025-03-30T00:51:59.413753Z"
    },
    "papermill": {
     "duration": 0.024812,
     "end_time": "2025-03-30T00:51:59.415885",
     "exception": false,
     "start_time": "2025-03-30T00:51:59.391073",
     "status": "completed"
    },
    "tags": []
   },
   "outputs": [
    {
     "data": {
      "text/plain": [
       "array([   1,    2,    3, ..., 4296, 4297, 4298])"
      ]
     },
     "execution_count": 15,
     "metadata": {},
     "output_type": "execute_result"
    }
   ],
   "source": [
    "train_full_df['pdb_monomer']=train_full_df['pdb_monomer'].astype(int)\n",
    "train_full_df['pdb_monomer'].unique()"
   ]
  },
  {
   "cell_type": "code",
   "execution_count": 16,
   "id": "56dac8fa",
   "metadata": {
    "execution": {
     "iopub.execute_input": "2025-03-30T00:51:59.427199Z",
     "iopub.status.busy": "2025-03-30T00:51:59.426950Z",
     "iopub.status.idle": "2025-03-30T00:51:59.462466Z",
     "shell.execute_reply": "2025-03-30T00:51:59.461623Z"
    },
    "papermill": {
     "duration": 0.042626,
     "end_time": "2025-03-30T00:51:59.463881",
     "exception": false,
     "start_time": "2025-03-30T00:51:59.421255",
     "status": "completed"
    },
    "tags": []
   },
   "outputs": [
    {
     "data": {
      "text/html": [
       "<div>\n",
       "<style scoped>\n",
       "    .dataframe tbody tr th:only-of-type {\n",
       "        vertical-align: middle;\n",
       "    }\n",
       "\n",
       "    .dataframe tbody tr th {\n",
       "        vertical-align: top;\n",
       "    }\n",
       "\n",
       "    .dataframe thead th {\n",
       "        text-align: right;\n",
       "    }\n",
       "</style>\n",
       "<table border=\"1\" class=\"dataframe\">\n",
       "  <thead>\n",
       "    <tr style=\"text-align: right;\">\n",
       "      <th></th>\n",
       "      <th>resid</th>\n",
       "      <th>pdb_monomer</th>\n",
       "      <th>seq_len</th>\n",
       "      <th>aestivum</th>\n",
       "      <th>auth</th>\n",
       "      <th>bacillus</th>\n",
       "      <th>coli</th>\n",
       "      <th>cuniculus</th>\n",
       "      <th>drosophila</th>\n",
       "      <th>escherichia</th>\n",
       "      <th>...</th>\n",
       "      <th>subtilis</th>\n",
       "      <th>thermophilus</th>\n",
       "      <th>thermus</th>\n",
       "      <th>triticum</th>\n",
       "      <th>-</th>\n",
       "      <th>A</th>\n",
       "      <th>C</th>\n",
       "      <th>G</th>\n",
       "      <th>U</th>\n",
       "      <th>X</th>\n",
       "    </tr>\n",
       "  </thead>\n",
       "  <tbody>\n",
       "    <tr>\n",
       "      <th>0</th>\n",
       "      <td>1</td>\n",
       "      <td>1</td>\n",
       "      <td>29</td>\n",
       "      <td>0.0</td>\n",
       "      <td>0.0</td>\n",
       "      <td>0.0</td>\n",
       "      <td>0.0</td>\n",
       "      <td>0.0</td>\n",
       "      <td>0.0</td>\n",
       "      <td>0.0</td>\n",
       "      <td>...</td>\n",
       "      <td>0.0</td>\n",
       "      <td>0.0</td>\n",
       "      <td>0.0</td>\n",
       "      <td>0.0</td>\n",
       "      <td>0</td>\n",
       "      <td>0</td>\n",
       "      <td>0</td>\n",
       "      <td>1</td>\n",
       "      <td>0</td>\n",
       "      <td>0</td>\n",
       "    </tr>\n",
       "    <tr>\n",
       "      <th>1</th>\n",
       "      <td>2</td>\n",
       "      <td>2</td>\n",
       "      <td>29</td>\n",
       "      <td>0.0</td>\n",
       "      <td>0.0</td>\n",
       "      <td>0.0</td>\n",
       "      <td>0.0</td>\n",
       "      <td>0.0</td>\n",
       "      <td>0.0</td>\n",
       "      <td>0.0</td>\n",
       "      <td>...</td>\n",
       "      <td>0.0</td>\n",
       "      <td>0.0</td>\n",
       "      <td>0.0</td>\n",
       "      <td>0.0</td>\n",
       "      <td>0</td>\n",
       "      <td>0</td>\n",
       "      <td>0</td>\n",
       "      <td>1</td>\n",
       "      <td>0</td>\n",
       "      <td>0</td>\n",
       "    </tr>\n",
       "    <tr>\n",
       "      <th>2</th>\n",
       "      <td>3</td>\n",
       "      <td>3</td>\n",
       "      <td>29</td>\n",
       "      <td>0.0</td>\n",
       "      <td>0.0</td>\n",
       "      <td>0.0</td>\n",
       "      <td>0.0</td>\n",
       "      <td>0.0</td>\n",
       "      <td>0.0</td>\n",
       "      <td>0.0</td>\n",
       "      <td>...</td>\n",
       "      <td>0.0</td>\n",
       "      <td>0.0</td>\n",
       "      <td>0.0</td>\n",
       "      <td>0.0</td>\n",
       "      <td>0</td>\n",
       "      <td>0</td>\n",
       "      <td>0</td>\n",
       "      <td>1</td>\n",
       "      <td>0</td>\n",
       "      <td>0</td>\n",
       "    </tr>\n",
       "  </tbody>\n",
       "</table>\n",
       "<p>3 rows × 26 columns</p>\n",
       "</div>"
      ],
      "text/plain": [
       "   resid  pdb_monomer  seq_len  aestivum  auth  bacillus  coli  cuniculus  \\\n",
       "0      1            1       29       0.0   0.0       0.0   0.0        0.0   \n",
       "1      2            2       29       0.0   0.0       0.0   0.0        0.0   \n",
       "2      3            3       29       0.0   0.0       0.0   0.0        0.0   \n",
       "\n",
       "   drosophila  escherichia  ...  subtilis  thermophilus  thermus  triticum  -  \\\n",
       "0         0.0          0.0  ...       0.0           0.0      0.0       0.0  0   \n",
       "1         0.0          0.0  ...       0.0           0.0      0.0       0.0  0   \n",
       "2         0.0          0.0  ...       0.0           0.0      0.0       0.0  0   \n",
       "\n",
       "   A  C  G  U  X  \n",
       "0  0  0  1  0  0  \n",
       "1  0  0  1  0  0  \n",
       "2  0  0  1  0  0  \n",
       "\n",
       "[3 rows x 26 columns]"
      ]
     },
     "execution_count": 16,
     "metadata": {},
     "output_type": "execute_result"
    }
   ],
   "source": [
    "#numerical columns\n",
    "num_cols=['resid', 'pdb_monomer', 'seq_len']\n",
    "\n",
    "#TODO: merge features into X and run model; catBoost can use train_full_df['sequence']\n",
    "full_prep_train=pd.concat([train_full_df[num_cols], reduced_wfts_df, ohe_resname], axis=1)\n",
    "full_prep_train.head(3)"
   ]
  },
  {
   "cell_type": "code",
   "execution_count": 17,
   "id": "3036c7e2",
   "metadata": {
    "execution": {
     "iopub.execute_input": "2025-03-30T00:51:59.476057Z",
     "iopub.status.busy": "2025-03-30T00:51:59.475753Z",
     "iopub.status.idle": "2025-03-30T00:52:01.889205Z",
     "shell.execute_reply": "2025-03-30T00:52:01.888131Z"
    },
    "papermill": {
     "duration": 2.421428,
     "end_time": "2025-03-30T00:52:01.891226",
     "exception": false,
     "start_time": "2025-03-30T00:51:59.469798",
     "status": "completed"
    },
    "tags": []
   },
   "outputs": [],
   "source": [
    "#y: coordinates\n",
    "y_list=training_coordinates\n",
    "\n",
    "model_yi={}\n",
    "\n",
    "for y in y_list:\n",
    "    xgboost_model=xgb.XGBRegressor(\n",
    "        objective='reg:squarederror', #since there are negative coordinates\n",
    "        n_estimators=100 , \n",
    "        max_depth=7,\n",
    "        learning_rate=0.1,\n",
    "        subsample=0.6,\n",
    "        colsample_bytree=0.6\n",
    "        )\n",
    "    \n",
    "    xgboost_model.fit(full_prep_train, train_full_df[y])\n",
    "    model_yi[y]=xgboost_model"
   ]
  },
  {
   "cell_type": "code",
   "execution_count": 18,
   "id": "ac611ae9",
   "metadata": {
    "execution": {
     "iopub.execute_input": "2025-03-30T00:52:01.913109Z",
     "iopub.status.busy": "2025-03-30T00:52:01.912786Z",
     "iopub.status.idle": "2025-03-30T00:52:01.925086Z",
     "shell.execute_reply": "2025-03-30T00:52:01.924183Z"
    },
    "papermill": {
     "duration": 0.024663,
     "end_time": "2025-03-30T00:52:01.926568",
     "exception": false,
     "start_time": "2025-03-30T00:52:01.901905",
     "status": "completed"
    },
    "tags": []
   },
   "outputs": [
    {
     "data": {
      "text/html": [
       "<style>#sk-container-id-1 {color: black;background-color: white;}#sk-container-id-1 pre{padding: 0;}#sk-container-id-1 div.sk-toggleable {background-color: white;}#sk-container-id-1 label.sk-toggleable__label {cursor: pointer;display: block;width: 100%;margin-bottom: 0;padding: 0.3em;box-sizing: border-box;text-align: center;}#sk-container-id-1 label.sk-toggleable__label-arrow:before {content: \"▸\";float: left;margin-right: 0.25em;color: #696969;}#sk-container-id-1 label.sk-toggleable__label-arrow:hover:before {color: black;}#sk-container-id-1 div.sk-estimator:hover label.sk-toggleable__label-arrow:before {color: black;}#sk-container-id-1 div.sk-toggleable__content {max-height: 0;max-width: 0;overflow: hidden;text-align: left;background-color: #f0f8ff;}#sk-container-id-1 div.sk-toggleable__content pre {margin: 0.2em;color: black;border-radius: 0.25em;background-color: #f0f8ff;}#sk-container-id-1 input.sk-toggleable__control:checked~div.sk-toggleable__content {max-height: 200px;max-width: 100%;overflow: auto;}#sk-container-id-1 input.sk-toggleable__control:checked~label.sk-toggleable__label-arrow:before {content: \"▾\";}#sk-container-id-1 div.sk-estimator input.sk-toggleable__control:checked~label.sk-toggleable__label {background-color: #d4ebff;}#sk-container-id-1 div.sk-label input.sk-toggleable__control:checked~label.sk-toggleable__label {background-color: #d4ebff;}#sk-container-id-1 input.sk-hidden--visually {border: 0;clip: rect(1px 1px 1px 1px);clip: rect(1px, 1px, 1px, 1px);height: 1px;margin: -1px;overflow: hidden;padding: 0;position: absolute;width: 1px;}#sk-container-id-1 div.sk-estimator {font-family: monospace;background-color: #f0f8ff;border: 1px dotted black;border-radius: 0.25em;box-sizing: border-box;margin-bottom: 0.5em;}#sk-container-id-1 div.sk-estimator:hover {background-color: #d4ebff;}#sk-container-id-1 div.sk-parallel-item::after {content: \"\";width: 100%;border-bottom: 1px solid gray;flex-grow: 1;}#sk-container-id-1 div.sk-label:hover label.sk-toggleable__label {background-color: #d4ebff;}#sk-container-id-1 div.sk-serial::before {content: \"\";position: absolute;border-left: 1px solid gray;box-sizing: border-box;top: 0;bottom: 0;left: 50%;z-index: 0;}#sk-container-id-1 div.sk-serial {display: flex;flex-direction: column;align-items: center;background-color: white;padding-right: 0.2em;padding-left: 0.2em;position: relative;}#sk-container-id-1 div.sk-item {position: relative;z-index: 1;}#sk-container-id-1 div.sk-parallel {display: flex;align-items: stretch;justify-content: center;background-color: white;position: relative;}#sk-container-id-1 div.sk-item::before, #sk-container-id-1 div.sk-parallel-item::before {content: \"\";position: absolute;border-left: 1px solid gray;box-sizing: border-box;top: 0;bottom: 0;left: 50%;z-index: -1;}#sk-container-id-1 div.sk-parallel-item {display: flex;flex-direction: column;z-index: 1;position: relative;background-color: white;}#sk-container-id-1 div.sk-parallel-item:first-child::after {align-self: flex-end;width: 50%;}#sk-container-id-1 div.sk-parallel-item:last-child::after {align-self: flex-start;width: 50%;}#sk-container-id-1 div.sk-parallel-item:only-child::after {width: 0;}#sk-container-id-1 div.sk-dashed-wrapped {border: 1px dashed gray;margin: 0 0.4em 0.5em 0.4em;box-sizing: border-box;padding-bottom: 0.4em;background-color: white;}#sk-container-id-1 div.sk-label label {font-family: monospace;font-weight: bold;display: inline-block;line-height: 1.2em;}#sk-container-id-1 div.sk-label-container {text-align: center;}#sk-container-id-1 div.sk-container {/* jupyter's `normalize.less` sets `[hidden] { display: none; }` but bootstrap.min.css set `[hidden] { display: none !important; }` so we also need the `!important` here to be able to override the default hidden behavior on the sphinx rendered scikit-learn.org. See: https://github.com/scikit-learn/scikit-learn/issues/21755 */display: inline-block !important;position: relative;}#sk-container-id-1 div.sk-text-repr-fallback {display: none;}</style><div id=\"sk-container-id-1\" class=\"sk-top-container\"><div class=\"sk-text-repr-fallback\"><pre>XGBRegressor(base_score=None, booster=None, callbacks=None,\n",
       "             colsample_bylevel=None, colsample_bynode=None,\n",
       "             colsample_bytree=0.6, device=None, early_stopping_rounds=None,\n",
       "             enable_categorical=False, eval_metric=None, feature_types=None,\n",
       "             gamma=None, grow_policy=None, importance_type=None,\n",
       "             interaction_constraints=None, learning_rate=0.1, max_bin=None,\n",
       "             max_cat_threshold=None, max_cat_to_onehot=None,\n",
       "             max_delta_step=None, max_depth=7, max_leaves=None,\n",
       "             min_child_weight=None, missing=nan, monotone_constraints=None,\n",
       "             multi_strategy=None, n_estimators=100, n_jobs=None,\n",
       "             num_parallel_tree=None, random_state=None, ...)</pre><b>In a Jupyter environment, please rerun this cell to show the HTML representation or trust the notebook. <br />On GitHub, the HTML representation is unable to render, please try loading this page with nbviewer.org.</b></div><div class=\"sk-container\" hidden><div class=\"sk-item\"><div class=\"sk-estimator sk-toggleable\"><input class=\"sk-toggleable__control sk-hidden--visually\" id=\"sk-estimator-id-1\" type=\"checkbox\" checked><label for=\"sk-estimator-id-1\" class=\"sk-toggleable__label sk-toggleable__label-arrow\">XGBRegressor</label><div class=\"sk-toggleable__content\"><pre>XGBRegressor(base_score=None, booster=None, callbacks=None,\n",
       "             colsample_bylevel=None, colsample_bynode=None,\n",
       "             colsample_bytree=0.6, device=None, early_stopping_rounds=None,\n",
       "             enable_categorical=False, eval_metric=None, feature_types=None,\n",
       "             gamma=None, grow_policy=None, importance_type=None,\n",
       "             interaction_constraints=None, learning_rate=0.1, max_bin=None,\n",
       "             max_cat_threshold=None, max_cat_to_onehot=None,\n",
       "             max_delta_step=None, max_depth=7, max_leaves=None,\n",
       "             min_child_weight=None, missing=nan, monotone_constraints=None,\n",
       "             multi_strategy=None, n_estimators=100, n_jobs=None,\n",
       "             num_parallel_tree=None, random_state=None, ...)</pre></div></div></div></div></div>"
      ],
      "text/plain": [
       "XGBRegressor(base_score=None, booster=None, callbacks=None,\n",
       "             colsample_bylevel=None, colsample_bynode=None,\n",
       "             colsample_bytree=0.6, device=None, early_stopping_rounds=None,\n",
       "             enable_categorical=False, eval_metric=None, feature_types=None,\n",
       "             gamma=None, grow_policy=None, importance_type=None,\n",
       "             interaction_constraints=None, learning_rate=0.1, max_bin=None,\n",
       "             max_cat_threshold=None, max_cat_to_onehot=None,\n",
       "             max_delta_step=None, max_depth=7, max_leaves=None,\n",
       "             min_child_weight=None, missing=nan, monotone_constraints=None,\n",
       "             multi_strategy=None, n_estimators=100, n_jobs=None,\n",
       "             num_parallel_tree=None, random_state=None, ...)"
      ]
     },
     "execution_count": 18,
     "metadata": {},
     "output_type": "execute_result"
    }
   ],
   "source": [
    "model_yi['x_1']"
   ]
  }
 ],
 "metadata": {
  "kaggle": {
   "accelerator": "gpu",
   "dataSources": [
    {
     "databundleVersionId": 11553390,
     "sourceId": 87793,
     "sourceType": "competition"
    }
   ],
   "dockerImageVersionId": 30918,
   "isGpuEnabled": true,
   "isInternetEnabled": true,
   "language": "python",
   "sourceType": "notebook"
  },
  "kernelspec": {
   "display_name": "Python 3",
   "language": "python",
   "name": "python3"
  },
  "language_info": {
   "codemirror_mode": {
    "name": "ipython",
    "version": 3
   },
   "file_extension": ".py",
   "mimetype": "text/x-python",
   "name": "python",
   "nbconvert_exporter": "python",
   "pygments_lexer": "ipython3",
   "version": "3.10.12"
  },
  "papermill": {
   "default_parameters": {},
   "duration": 75.731986,
   "end_time": "2025-03-30T00:52:03.955221",
   "environment_variables": {},
   "exception": null,
   "input_path": "__notebook__.ipynb",
   "output_path": "__notebook__.ipynb",
   "parameters": {},
   "start_time": "2025-03-30T00:50:48.223235",
   "version": "2.6.0"
  }
 },
 "nbformat": 4,
 "nbformat_minor": 5
}
